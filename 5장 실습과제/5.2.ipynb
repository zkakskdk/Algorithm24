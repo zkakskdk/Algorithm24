{
 "cells": [
  {
   "cell_type": "markdown",
   "metadata": {},
   "source": [
    "# 1.문제정의\n",
    "병합 알고리즘(정렬된 두 리스트의 병합)"
   ]
  },
  {
   "cell_type": "markdown",
   "metadata": {},
   "source": [
    "# 2.알고리즘 설명\n",
    "i와 j는 각각 첫 번째와 두 번째 정렬된 부분 리스트의 첫 번째 요소를 가리키는 인덱스다.\n",
    "sorted라는 임시 배열을 사용하여 정렬된 결과를 저장한다.\n",
    "i와 j를 이용하여 두 부분 리스트를 하나로 합친다.\n",
    "i와 j 중 어느 하나가 부분 리스트의 끝에 도달할 때까지, 작은 값을 sorted 배열에 저장하고 해당 인덱스를 증가시킨다.\n",
    "만약 한 부분 리스트의 요소를 모두 sorted 배열에 복사했다면, 다른 부분 리스트에 남아있는 요소들을 모두 sorted 배열에 복사한다.\n",
    "마지막으로, 복사된 정렬된 요소들을 다시 원래 배열 A에 복사한다.\n"
   ]
  },
  {
   "cell_type": "markdown",
   "metadata": {},
   "source": [
    "# 3. 손으로 푼 예제\n",
    "![poster](./예제%205.2.jpg)\n"
   ]
  },
  {
   "cell_type": "markdown",
   "metadata": {},
   "source": [
    "# 4. 코드 개요\n",
    "분할(Divide):주어진 리스트를 중간 지점을 기준으로 두 개의 작은 부분 리스트로 나눈다.\n",
    "\n",
    "정복(Conquer):각 부분 리스트를 재귀적으로 정렬한다.\n",
    "\n",
    "병합(Merge):정렬된 부분 리스트들을 하나로 합친다.\n"
   ]
  },
  {
   "cell_type": "code",
   "execution_count": 2,
   "metadata": {},
   "outputs": [],
   "source": [
    "# 5. 알고리즘 코드\n",
    "def merge(A, left, mid, right):\n",
    "    k = left\n",
    "    i = left\n",
    "    j = mid + 1\n",
    "    while i<=mid and j<=right:\n",
    "        if A[i] <= A[j]:\n",
    "            sorted[k] = A[i]\n",
    "            i, k = i+1, k+1\n",
    "        else :\n",
    "            sorted[k] = A[j]\n",
    "            j,k = j+1, k+1\n",
    "        \n",
    "    if i > mid :\n",
    "        sorted[k:k+right-j+1] = A[j:right+1]\n",
    "    else :\n",
    "        sorted[k:k+mid-i+1] = A[i:mid+1]\n",
    "\n",
    "    A[left:right+1] = sorted[left:right+1]\n"
   ]
  },
  {
   "cell_type": "code",
   "execution_count": 3,
   "metadata": {},
   "outputs": [
    {
     "name": "stdout",
     "output_type": "stream",
     "text": [
      "Original: [3, 9, 1, 7, 4, 2, 8, 5, 6]\n",
      "MergeSort: [3, 4, 2, 8, 9, 1, 7, 5, 6]\n"
     ]
    }
   ],
   "source": [
    "# 6. 테스트 코드\n",
    "def merge(A, left, mid, right):\n",
    "    k = left\n",
    "    i = left\n",
    "    j = mid + 1\n",
    "    while i <= mid and j <= right:\n",
    "        if A[i] <= A[j]:\n",
    "            sorted[k] = A[i]\n",
    "            i, k = i + 1, k + 1\n",
    "        else:\n",
    "            sorted[k] = A[j]\n",
    "            j, k = j + 1, k + 1\n",
    "        \n",
    "    if i > mid:\n",
    "        sorted[k:k + right - j + 1] = A[j:right + 1]\n",
    "    else:\n",
    "        sorted[k:k + mid - i + 1] = A[i:mid + 1]\n",
    "\n",
    "    A[left:right + 1] = sorted[left:right + 1]\n",
    "\n",
    "test_list = [3, 9, 1, 7, 4, 2, 8, 5, 6]\n",
    "left = 0\n",
    "mid = 3\n",
    "right = 6\n",
    "print(\"Original:\", test_list)\n",
    "sorted = [0] * len(test_list)\n",
    "merge(test_list, left, mid, right)\n",
    "\n",
    "print(\"MergeSort:\", test_list)\n"
   ]
  },
  {
   "cell_type": "markdown",
   "metadata": {},
   "source": [
    "# 7. 수행 결과\n",
    "![poster](./예제%205.2%20테스트.png)"
   ]
  },
  {
   "cell_type": "markdown",
   "metadata": {},
   "source": [
    "# 8. 복잡도 분석\n",
    " O(n)"
   ]
  }
 ],
 "metadata": {
  "kernelspec": {
   "display_name": "base",
   "language": "python",
   "name": "python3"
  },
  "language_info": {
   "codemirror_mode": {
    "name": "ipython",
    "version": 3
   },
   "file_extension": ".py",
   "mimetype": "text/x-python",
   "name": "python",
   "nbconvert_exporter": "python",
   "pygments_lexer": "ipython3",
   "version": "3.11.7"
  }
 },
 "nbformat": 4,
 "nbformat_minor": 2
}
