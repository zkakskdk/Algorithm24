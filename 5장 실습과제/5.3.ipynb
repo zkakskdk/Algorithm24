{
 "cells": [
  {
   "cell_type": "markdown",
   "metadata": {},
   "source": [
    "# 1. 문제 정의\n",
    "퀵 정렬"
   ]
  },
  {
   "cell_type": "markdown",
   "metadata": {},
   "source": [
    "# 2. 알고리즘 설명\n",
    "퀵 정렬(Quick Sort) 알고리즘을 구현한 것이다. 퀵 정렬은 분할 정복 알고리즘의 하나로, 대부분의 경우에 효율적으로 동작하는 정렬 알고리즘 중 하나다.\n",
    "\n",
    "여기서 quick_sort 함수는 배열 A를 특정 범위 left와 right로 정렬한다. 정렬할 부분 배열의 첫 번째 인덱스를 left로, 마지막 인덱스를 right로 받는다."
   ]
  },
  {
   "cell_type": "markdown",
   "metadata": {},
   "source": [
    "# 3. 손으로 푼 예제\n",
    "![poster](./예제%205.3.jpg)"
   ]
  },
  {
   "cell_type": "markdown",
   "metadata": {},
   "source": [
    "# 4. 코드 개요\n",
    "분할 (Partitioning) : 주어진 배열에서 한 요소를 피벗(pivot)으로 선택한다.\n",
    "피벗을 기준으로 배열을 두 부분으로 분할한다. 하나는 피벗보다 작은 요소들의 모음이고, 다른 하나는 피벗보다 큰 요소들의 모음이다. 분할 작업을 통해 피벗은 최종적으로 정렬된 배열에서 자신의 위치를 찾게 된다.\n",
    "\n",
    "정복 (Recurrence) : 피벗을 기준으로 분할된 두 부분 배열에 대해 재귀적으로 퀵 정렬을 적용한다. 각 부분 배열은 독립적으로 정렬된다.\n",
    "\n",
    "결합 (Combining) : 아무런 작업이 필요하지 않다. 분할과 정복 단계를 통해 각 부분 배열이 이미 정렬되어 있으므로, 결합 단계는 필요하지 않다."
   ]
  },
  {
   "cell_type": "code",
   "execution_count": 1,
   "metadata": {},
   "outputs": [],
   "source": [
    "# 5. 알고리즘 코드\n",
    "def quick_sort(A, left, right) :\n",
    "    if left<right:\n",
    "        mid = partition(A, left, right)\n",
    "        quick_sort(A, left, mid-1)\n",
    "        quick_sort(A, mid+1, right)"
   ]
  },
  {
   "cell_type": "code",
   "execution_count": 4,
   "metadata": {},
   "outputs": [
    {
     "name": "stdout",
     "output_type": "stream",
     "text": [
      "Original:  [38, 27, 43, 3, 9, 82, 10]\n",
      "QuickSort: [3, 10, 27, 9, 38, 43, 82]\n"
     ]
    }
   ],
   "source": [
    "# 6. 테스트 코드\n",
    "def quick_sort(A, left, right) :\n",
    "    if left<right:\n",
    "        mid = partition(A, left, right)\n",
    "        quick_sort(A, left, mid - 1)\n",
    "        quick_sort(A, mid + 1, right)\n",
    "\n",
    "def partition(A, left, right):\n",
    "    pivot = A[(left + right) // 2]\n",
    "    i = left - 1\n",
    "    j = right + 1\n",
    "    while True:\n",
    "        i += 1\n",
    "        while A[i] < pivot:\n",
    "            i += 1\n",
    "\n",
    "        j -= 1\n",
    "        while A[j] > pivot:\n",
    "            j -= 1\n",
    "        \n",
    "        if i >= j:\n",
    "            return j\n",
    "        \n",
    "        A[i], A[j] = A[j], A[i]\n",
    "\n",
    "test_list = [38, 27, 43, 3, 9, 82, 10]\n",
    "\n",
    "print(\"Original: \", test_list)\n",
    "\n",
    "quick_sort(test_list, 0, len(test_list) - 1)\n",
    "\n",
    "print(\"QuickSort:\", test_list)"
   ]
  },
  {
   "cell_type": "markdown",
   "metadata": {},
   "source": [
    "# 7. 수행 결과\n",
    "![poster](./예제%205.3%20테스트.png)"
   ]
  },
  {
   "cell_type": "markdown",
   "metadata": {},
   "source": [
    "# 8. 복잡도 분석\n",
    "O(n log n)"
   ]
  },
  {
   "cell_type": "markdown",
   "metadata": {},
   "source": []
  }
 ],
 "metadata": {
  "kernelspec": {
   "display_name": "base",
   "language": "python",
   "name": "python3"
  },
  "language_info": {
   "codemirror_mode": {
    "name": "ipython",
    "version": 3
   },
   "file_extension": ".py",
   "mimetype": "text/x-python",
   "name": "python",
   "nbconvert_exporter": "python",
   "pygments_lexer": "ipython3",
   "version": "3.11.7"
  }
 },
 "nbformat": 4,
 "nbformat_minor": 2
}
