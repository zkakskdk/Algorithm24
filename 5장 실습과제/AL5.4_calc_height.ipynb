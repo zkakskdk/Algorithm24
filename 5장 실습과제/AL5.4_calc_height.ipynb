{
 "cells": [
  {
   "cell_type": "markdown",
   "metadata": {},
   "source": [
    "1. 이진트리의 높이"
   ]
  },
  {
   "cell_type": "markdown",
   "metadata": {},
   "source": [
    "2. 알고리즘의 입력은 노드 root로 어떤 트리의 루트를 나타낸다. 만약 루트가 None이면 공백 트리를 의미하므로 높이 0을 바로 \n",
    "\n",
    "반환한다. 공백 트리가 아니면 두 서브 트리의 높이를 계산하는데, 물론 순환 호출이 사용된다. 마지막으로 결과를 비교해 더 큰 값에 1을 더한 값을 반환한다."
   ]
  },
  {
   "cell_type": "code",
   "execution_count": 1,
   "metadata": {},
   "outputs": [],
   "source": [
    "def calc_height(root) : #루트노드 root\n",
    "    if root is None : #공백 트리이면 0을 반환\n",
    "        return 0 #높이가 0이면 0을 반환\n",
    "    hLeft = calc_height(root.left) # 왼쪽 트리의 높이 > hLeft\n",
    "    hRight = calc_height(root.right) # 오른쪽 트리의 높이 > hRight\n",
    "    return max(hLeft,hRight) + 1 # 더 높은 높이에 1를 더해 반환"
   ]
  },
  {
   "cell_type": "code",
   "execution_count": 2,
   "metadata": {},
   "outputs": [],
   "source": [
    "class TNode:\n",
    "    def __init__(self, data, left=None, right=None):\n",
    "        self.data = data\n",
    "        self.left = left\n",
    "        self.right = right\n",
    "\n",
    "def calc_height(root) :\n",
    "    if root is None :\n",
    "        return 0\n",
    "    hLeft = calc_height(root.left)\n",
    "    hRight = calc_height(root.right)\n",
    "    return max(hLeft,hRight) + 1"
   ]
  },
  {
   "cell_type": "code",
   "execution_count": 3,
   "metadata": {},
   "outputs": [
    {
     "name": "stdout",
     "output_type": "stream",
     "text": [
      "트리의 높이= 3\n"
     ]
    }
   ],
   "source": [
    "d = TNode('D', None, None)\n",
    "e = TNode('E', None, None)\n",
    "b = TNode('B', d, e)\n",
    "f = TNode('f', None, None)\n",
    "c = TNode('C', f, None)\n",
    "root = TNode('A', b, c)\n",
    "print(\"트리의 높이=\", calc_height(root))"
   ]
  },
  {
   "cell_type": "markdown",
   "metadata": {},
   "source": [
    "![poster](./calc.png)"
   ]
  },
  {
   "cell_type": "markdown",
   "metadata": {},
   "source": [
    "8. 복잡도 분석 O(n)"
   ]
  },
  {
   "cell_type": "markdown",
   "metadata": {},
   "source": []
  }
 ],
 "metadata": {
  "kernelspec": {
   "display_name": "Python 3",
   "language": "python",
   "name": "python3"
  },
  "language_info": {
   "codemirror_mode": {
    "name": "ipython",
    "version": 3
   },
   "file_extension": ".py",
   "mimetype": "text/x-python",
   "name": "python",
   "nbconvert_exporter": "python",
   "pygments_lexer": "ipython3",
   "version": "3.9.7"
  }
 },
 "nbformat": 4,
 "nbformat_minor": 2
}
