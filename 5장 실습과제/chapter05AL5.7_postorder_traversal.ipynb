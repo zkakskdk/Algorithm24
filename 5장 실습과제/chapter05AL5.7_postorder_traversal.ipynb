{
 "cells": [
  {
   "cell_type": "markdown",
   "metadata": {},
   "source": [
    "### 1)문제정의\n",
    "이진트리의 후위 순회"
   ]
  },
  {
   "cell_type": "markdown",
   "metadata": {},
   "source": [
    "### 2)알고리즘 설명\n",
    "1. 노드 n이 None이 아닌 경우에만 중위 순회를 수행하도록 한다.\n",
    "2. n.left와 n.right를 순회하기 위해 postorder 함수를 재귀적으로 호출\n",
    "3. 재귀 호출을 통해 왼쪽 서브트리와 오른쪽 서브트리를 순회한 후에는 현재 노드의 데이터를 출력"
   ]
  },
  {
   "cell_type": "markdown",
   "metadata": {},
   "source": [
    "### 3)손으로 푼 문제\n",
    "![poster](./chapter05AL5.7.jpg)"
   ]
  },
  {
   "cell_type": "markdown",
   "metadata": {},
   "source": [
    "### 4)코드 개요\n",
    "1. postorder(n) = 후위 순회를 수행하는 함수\n",
    "2. if n is not None: = 현재 노드 n이 None이 아닌 경우에만 실행\n",
    "3. postorder(n.left) = 현재 노드의 왼쪽 자식 노드를 기준으로 후위 순회를 호출\n",
    "4. postorder(n.right) = 현재 노드의 오른쪽 자식 노드를 기준으로 후위 순회를 호출\n",
    "5. print(n.data, end=' ') = 현재 노드의 데이터를 출력"
   ]
  },
  {
   "cell_type": "markdown",
   "metadata": {},
   "source": [
    "### 5)알고리즘 코드"
   ]
  },
  {
   "cell_type": "code",
   "execution_count": null,
   "metadata": {},
   "outputs": [],
   "source": [
    "def postorder(n): \n",
    "    if n is not None:  \n",
    "        postorder(n.left)  \n",
    "        postorder(n.right)  \n",
    "        print(n.data, end=' ')  "
   ]
  },
  {
   "cell_type": "markdown",
   "metadata": {},
   "source": [
    "### 6)테스트 코드"
   ]
  },
  {
   "cell_type": "code",
   "execution_count": null,
   "metadata": {},
   "outputs": [],
   "source": [
    "def postorder(n):  \n",
    "    if n is not None: \n",
    "        postorder(n.left)  \n",
    "        postorder(n.right)  \n",
    "        print(n.data, end=' ')  \n",
    "\n",
    "class Node:\n",
    "    def __init__(self, data):\n",
    "        self.data = data\n",
    "        self.left = None\n",
    "        self.right = None\n",
    "\n",
    "root = Node(1)\n",
    "root.left = Node(2)\n",
    "root.right = Node(3)\n",
    "root.left.left = Node(4)\n",
    "root.left.right = Node(5)\n",
    "\n",
    "print(\"후위 순회 결과:\")\n",
    "postorder(root)"
   ]
  },
  {
   "cell_type": "markdown",
   "metadata": {},
   "source": [
    "### 7)수행 결과\n",
    "![poster](./chapter05AL5.7_2.PNG)"
   ]
  },
  {
   "cell_type": "markdown",
   "metadata": {},
   "source": [
    "### 8)복잡도 계산\n",
    "모든 노드를 방문하므로 시간 복잡도는 O(n) 균형 잡힌 이진 트리에서는 재귀 호출 스택의 깊이가 로그 시간에 비례하므로 공간 복잡도는 O(log n)이지만 최악의 경우에는 O(n)"
   ]
  },
  {
   "cell_type": "markdown",
   "metadata": {},
   "source": [
    "### 9)조별 협력 내용\n",
    "요번 알고리즘 실습시간에 창업 네트워킹 비교과 프로그램때문에 참여하지 못하였는데 조별 팀원들이\n",
    "실습과제를 어떻게 하면 좋을까 알려주었습니다."
   ]
  }
 ],
 "metadata": {
  "language_info": {
   "name": "python"
  }
 },
 "nbformat": 4,
 "nbformat_minor": 2
}
