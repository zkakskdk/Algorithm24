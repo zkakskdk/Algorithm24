{
 "cells": [
  {
   "cell_type": "markdown",
   "metadata": {},
   "source": [
    "# 1. 문제 정의\n",
    "이진트리의 전위 순회"
   ]
  },
  {
   "cell_type": "markdown",
   "metadata": {},
   "source": [
    "# 2. 알고리즘 설명\n",
    "이 알고리즘은 재귀적인 방법을 사용하여 트리를 순회하며 각 노드의 데이터를 출력한다\n",
    "1. 먼저 주어진 노드 n의 데이터를 출력한다\n",
    "2. 그 다음에는 왼쪽 서브트리를 전위 순회한다 이를 위해 preorder 함수를 왼쪽 자식 노드 n.left에 대해 재귀적으로 호출한다\n",
    "3. 마지막으로 오른쪽 서브트리를 전위 순회한다 이를 위해 preorder 함수를 오른쪽 자식 노드 n.right에 대해 재귀적으로 호출한다"
   ]
  },
  {
   "cell_type": "markdown",
   "metadata": {},
   "source": [
    "# 3. 손으로 푼 예제\n",
    "![poster](./예제%205.5.jpg)"
   ]
  },
  {
   "cell_type": "markdown",
   "metadata": {},
   "source": [
    "# 4. 코드 개요\n",
    "1. 현재 노드의 데이터를 출력한다\n",
    "2. 왼쪽 서브트리를 전위 순회한다\n",
    "3. 오른쪽 서브트리를 전위 순회한다\n",
    "\n",
    "주어진 노드의 데이터를 출력한 후에는 해당 노드의 왼쪽 서브트리를 전위 순회하고, 그 다음에는 오른쪽 서브트리를 전위 순회한다\n",
    "\n",
    "이 과정을 재귀적으로 반복하여 전체 이진 트리를 전위 순회하며 모든 노드의 데이터를 출력한다"
   ]
  },
  {
   "cell_type": "code",
   "execution_count": 2,
   "metadata": {},
   "outputs": [],
   "source": [
    "# 5. 알고리즘 코드\n",
    "def preorder(n) :\n",
    "    print(n.data, end=' ')\n",
    "    preorder(n.left)\n",
    "    preorder(n.right)"
   ]
  },
  {
   "cell_type": "code",
   "execution_count": 5,
   "metadata": {},
   "outputs": [
    {
     "name": "stdout",
     "output_type": "stream",
     "text": [
      "  In-Order :  D B E A F C \n",
      " Pre-Order :  A B D E C F \n",
      "Post-Order :  D E B F C A \n"
     ]
    }
   ],
   "source": [
    "class TNode:\n",
    "    def __init__(self, data, left=None, right=None):\n",
    "        self.data = data\n",
    "        self.left = left\n",
    "        self.right = right\n",
    "\n",
    "def inorder(n):\n",
    "    if n is not None:\n",
    "        inorder(n.left)\n",
    "        print(n.data, end=' ')\n",
    "        inorder(n.right)\n",
    "\n",
    "def preorder(n):\n",
    "    if n is not None:\n",
    "        print(n.data, end=' ')\n",
    "        preorder(n.left)\n",
    "        preorder(n.right)\n",
    "\n",
    "def postorder(n):\n",
    "    if n is not None:\n",
    "        postorder(n.left)\n",
    "        postorder(n.right)\n",
    "        print(n.data, end=' ')\n",
    "\n",
    "if __name__ == \"__main__\":\n",
    "    d = TNode('D', None, None)\n",
    "    e = TNode('E', None, None)\n",
    "    b = TNode('B', d, e)\n",
    "    f = TNode('F', None, None)\n",
    "    c = TNode('C', f, None)\n",
    "    root = TNode('A', b, c)\n",
    "\n",
    "    print('  In-Order : ', end=' ')\n",
    "    inorder(root)\n",
    "    print()\n",
    "    print(' Pre-Order : ', end=' ')\n",
    "    preorder(root)\n",
    "    print()\n",
    "    print('Post-Order : ', end=' ')\n",
    "    postorder(root)\n",
    "    print()"
   ]
  },
  {
   "cell_type": "markdown",
   "metadata": {},
   "source": [
    "# 7. 수행 결과\n",
    "![poster](./예제%205.5%20테스트코드.png)"
   ]
  },
  {
   "cell_type": "markdown",
   "metadata": {},
   "source": [
    "# 8. 복잡도 분석"
   ]
  },
  {
   "cell_type": "markdown",
   "metadata": {},
   "source": [
    "O(n)"
   ]
  }
 ],
 "metadata": {
  "kernelspec": {
   "display_name": "base",
   "language": "python",
   "name": "python3"
  },
  "language_info": {
   "codemirror_mode": {
    "name": "ipython",
    "version": 3
   },
   "file_extension": ".py",
   "mimetype": "text/x-python",
   "name": "python",
   "nbconvert_exporter": "python",
   "pygments_lexer": "ipython3",
   "version": "3.11.7"
  }
 },
 "nbformat": 4,
 "nbformat_minor": 2
}
