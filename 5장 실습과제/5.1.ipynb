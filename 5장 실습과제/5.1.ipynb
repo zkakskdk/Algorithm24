{
 "cells": [
  {
   "cell_type": "markdown",
   "metadata": {},
   "source": [
    "# 1. 문제정의\n",
    "병렬 정렬"
   ]
  },
  {
   "cell_type": "markdown",
   "metadata": {},
   "source": [
    "# 2. 알고리즘 설명\n",
    "함수가 호출되면 리스트의 길이가 1보다 큰지 확인한다. 만약 길이가 1 이하이면 이미 정렬되어 있는 상태이므로 아무것도 하지 않고 함수를 종료한다.\n",
    "그렇지 않은 경우, 리스트를 중간 지점(mid)을 기준으로 두 개의 작은 리스트로 분할한다.\n",
    "분할된 각 작은 리스트에 대해 재귀적으로 merge_sort 함수를 호출하여 정렬한다.\n",
    "마지막으로, merge 함수를 사용하여 분할된 작은 리스트를 병합하여 전체 리스트를 정렬한다."
   ]
  },
  {
   "cell_type": "markdown",
   "metadata": {},
   "source": [
    "# 3. 손으로 푼 예제\n",
    "![예제 5 1](https://github.com/zkakskdk/Algorithm24/assets/162394816/cf2e01d4-1ecc-4c66-8baf-e097ee8065d2)"
   ]
  },
  {
   "cell_type": "markdown",
   "metadata": {},
   "source": [
    "# 4. 코드 개요\n",
    "분할(Divide):\n",
    "리스트를 반으로 나눈다.\n",
    "리스트의 중간 지점을 찾아 리스트를 두 개의 작은 리스트로 분할한다.\n",
    "\n",
    "정복(Conquer):\n",
    "분할된 작은 리스트 각각에 대해 재귀적으로 병합 정렬을 호출한다.\n",
    "각 작은 리스트가 충분히 작아지면(base case), 더 이상 분할하지 않고 정렬된 상태로 반환된다.\n",
    "\n",
    "병합(Merge):분할된 작은 리스트들을 병합하여 정렬된 하나의 리스트를 생성한다.\n",
    "정렬된 작은 리스트들을 순서대로 비교하면서 병합한다.\n"
   ]
  },
  {
   "cell_type": "code",
   "execution_count": 1,
   "metadata": {},
   "outputs": [],
   "source": [
    "## 5. 코드\n",
    "def merge_sort(A, left, right):\n",
    "    if left<right :\n",
    "        mid = (left + right) // 2\n",
    "        merge_sort(A, left, mid)\n",
    "        merge_sort(A, mid + 1, right)\n",
    "        merge(A, left, mid, right)"
   ]
  },
  {
   "cell_type": "code",
   "execution_count": 2,
   "metadata": {},
   "outputs": [
    {
     "name": "stdout",
     "output_type": "stream",
     "text": [
      "Original [38, 27, 43, 3, 9, 82, 10]\n",
      "MergeSort: [3, 9, 10, 27, 38, 43, 82]\n"
     ]
    }
   ],
   "source": [
    "## 6. 테스트 코드\n",
    "def merge_sort(A, left, right):\n",
    "    if left < right:\n",
    "        mid = (left + right) // 2\n",
    "        merge_sort(A, left, mid)\n",
    "        merge_sort(A, mid + 1, right)\n",
    "        merge(A, left, mid, right)\n",
    "\n",
    "def merge(A, left, mid, right):\n",
    "    L = A[left:mid + 1]\n",
    "    R = A[mid + 1:right + 1]\n",
    "\n",
    "    i = j = 0\n",
    "    k = left\n",
    "\n",
    "    while i < len(L) and j < len(R):\n",
    "        if L[i] < R[j]:\n",
    "            A[k] = L[i]\n",
    "            i += 1\n",
    "        else:\n",
    "            A[k] = R[j]\n",
    "            j += 1\n",
    "        k += 1\n",
    "\n",
    "    while i < len(L):\n",
    "        A[k] = L[i]\n",
    "        i += 1\n",
    "        k += 1\n",
    "\n",
    "    while j < len(R):\n",
    "        A[k] = R[j]\n",
    "        j += 1\n",
    "        k += 1\n",
    "\n",
    "test_list = [38, 27, 43, 3, 9, 82, 10]\n",
    "\n",
    "print(\"Original\", test_list)\n",
    "merge_sort(test_list, 0, len(test_list) - 1)\n",
    "print(\"MergeSort:\", test_list)\n"
   ]
  },
  {
   "cell_type": "markdown",
   "metadata": {},
   "source": [
    "# 7. 수행 결과\n",
    "![예제 5 1 테스트](https://github.com/zkakskdk/Algorithm24/assets/162394816/db9f8778-722a-4dca-9ea4-0b74fe228f60)"
   ]
  },
  {
   "cell_type": "markdown",
   "metadata": {},
   "source": [
    "# 8. 복잡도 분석\n",
    "O(log n)"
   ]
  }
 ],
 "metadata": {
  "kernelspec": {
   "display_name": "base",
   "language": "python",
   "name": "python3"
  },
  "language_info": {
   "codemirror_mode": {
    "name": "ipython",
    "version": 3
   },
   "file_extension": ".py",
   "mimetype": "text/x-python",
   "name": "python",
   "nbconvert_exporter": "python",
   "pygments_lexer": "ipython3",
   "version": "3.11.7"
  }
 },
 "nbformat": 4,
 "nbformat_minor": 2
}
