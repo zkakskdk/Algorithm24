{
 "cells": [
  {
   "cell_type": "markdown",
   "metadata": {},
   "source": [
    "#### 문제 정의"
   ]
  },
  {
   "cell_type": "markdown",
   "metadata": {},
   "source": [
    "병합 알고리즘(정렬된 두 리스트의 병합)"
   ]
  },
  {
   "cell_type": "markdown",
   "metadata": {},
   "source": [
    "#### 알고리즘 설명"
   ]
  },
  {
   "cell_type": "markdown",
   "metadata": {},
   "source": [
    "1. 병합을 위한 임시 리스트의 인덱스\n",
    "2. 왼쪽, 오른쪽 리스트의 인덱스\n",
    "3. 기본 연산\n",
    "4. 한쪽에 남아있는 리스트 요소 복사\n",
    "5. sorted를 A에 다시 복사"
   ]
  },
  {
   "cell_type": "markdown",
   "metadata": {},
   "source": [
    "#### 손으로 푼 예제"
   ]
  },
  {
   "cell_type": "markdown",
   "metadata": {},
   "source": [
    "![poster](./04_2.jpg)"
   ]
  },
  {
   "cell_type": "code",
   "execution_count": null,
   "metadata": {},
   "outputs": [],
   "source": [
    "def merge(A, left, mid, right) :\n",
    "    k = left\n",
    "    i = left\n",
    "    j = mid + 1\n",
    "    while i <= mid and j <= right :\n",
    "        if A[i] <= A[j] :\n",
    "            sorted[k] = A[i]\n",
    "            i, k = i + 1, k + 1\n",
    "        else :\n",
    "            sorted[k] = A[j]\n",
    "            j, k = j + 1, k + 1\n",
    "\n",
    "    if i > mid :\n",
    "        sorted[k:k+right-j+1] = A[j:right+1]\n",
    "    else :\n",
    "        sorted[k:k+mid-i+1] = A[i:mid+1]\n",
    "\n",
    "    A[left:right+1] = sorted[left:right+1]"
   ]
  },
  {
   "cell_type": "code",
   "execution_count": null,
   "metadata": {},
   "outputs": [],
   "source": [
    "def merge_sort(A, left, right) :\n",
    "    if left < right :\n",
    "        mid = (left + right) // 2\n",
    "        merge_sort(A, left, mid)\n",
    "        merge_sort(A, mid + 1, right)\n",
    "        merge(A, left, mid, right)\n",
    "\n",
    "def merge(A, left, mid, right) :\n",
    "    k = left\n",
    "    i = left\n",
    "    j = mid + 1\n",
    "    while i <= mid and j <= right :\n",
    "        if A[i] <= A[j] :\n",
    "            sorted[k] = A[i]\n",
    "            i, k = i + 1, k + 1\n",
    "        else :\n",
    "            sorted[k] = A[j]\n",
    "            j, k = j + 1, k + 1\n",
    "\n",
    "    if i > mid :\n",
    "        sorted[k:k+right-j+1] = A[j:right+1]\n",
    "    else :\n",
    "        sorted[k:k+mid-i+1] = A[i:mid+1]\n",
    "\n",
    "    A[left:right+1] = sorted[left:right+1]\n",
    "\n",
    "data = [5, 3, 8, 4, 9, 1, 6, 2, 7]\n",
    "sorted = [0] * len(data)\n",
    "print(\"Original : \", data)\n",
    "merge_sort(data, 0, len(data)-1)\n",
    "print(\"MergeSort : \", data)"
   ]
  },
  {
   "cell_type": "markdown",
   "metadata": {},
   "source": [
    "#### 수행 결과"
   ]
  },
  {
   "cell_type": "markdown",
   "metadata": {},
   "source": [
    "![poster](./04_2_re.jpg)"
   ]
  }
 ],
 "metadata": {
  "language_info": {
   "name": "python"
  }
 },
 "nbformat": 4,
 "nbformat_minor": 2
}
