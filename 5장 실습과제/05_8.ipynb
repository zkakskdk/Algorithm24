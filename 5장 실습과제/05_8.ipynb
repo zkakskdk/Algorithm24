{
 "cells": [
  {
   "cell_type": "markdown",
   "metadata": {},
   "source": [
    "#### 문제 정의\n",
    "띠(strip) 영역 내에서 d보다 작은 최근접 쌍의 거리 찾기"
   ]
  },
  {
   "cell_type": "markdown",
   "metadata": {},
   "source": [
    "#### 알고리즘 설명\n",
    "1. 점의 리스트와 d를 인자로 받는다.\n",
    "2. d_min을 d로 초기화 한다.\n",
    "3. P의 모든점을 y축을 따라 오름차순으로 정렬한다.\n",
    "4. y가 최소인 점부터 순서대로 그 대음 점들을 검사한다.\n",
    "(y값의 차이가 d_min 이내인 점들까지만 테스트한다.)\n",
    "5. 거리가 현재의 d_min보다 작으면 d_min을 갱신해준다."
   ]
  },
  {
   "cell_type": "markdown",
   "metadata": {},
   "source": [
    "#### 손으로 푼 예제"
   ]
  },
  {
   "cell_type": "markdown",
   "metadata": {},
   "source": [
    "![poster](./05_8.jpg)"
   ]
  },
  {
   "cell_type": "markdown",
   "metadata": {},
   "source": [
    "#### 코드 개요"
   ]
  },
  {
   "cell_type": "markdown",
   "metadata": {
    "vscode": {
     "languageId": "plaintext"
    }
   },
   "source": [
    "1. 점의 리스트P와 거리 d를 인자로 받는다.\n",
    "2. d_min에 d를 저장한다.\n",
    "3. sort함수로 y축에 따라 정렬해준다.\n",
    "4. 루프를 돌려 y값의 차이가 d_min이내인 점들까지 검사하여 최소인 점부터 검사한다.\n",
    "5. d_min보다 검사한 거리가 작으면 갱신한다"
   ]
  },
  {
   "cell_type": "code",
   "execution_count": null,
   "metadata": {},
   "outputs": [],
   "source": [
    "def strip_closest(P, d) :\n",
    "    n = len(P)\n",
    "    d_min = P\n",
    "    P.sort(key = lambda point: point[1])\n",
    "\n",
    "    for i in range(n) :\n",
    "        j = i + 1\n",
    "        while j < n and (P[j][1] - P[i][1]) < d_min :\n",
    "            dij = distance(P[i], P[j])\n",
    "            if dij < d_min :\n",
    "                d_min = dij\n",
    "            j += 1\n",
    "    return d_min"
   ]
  },
  {
   "cell_type": "code",
   "execution_count": null,
   "metadata": {},
   "outputs": [],
   "source": [
    "import math\n",
    "def distance(x, y) :\n",
    "    x1, y1 = x\n",
    "    x2, y2 = y\n",
    "    return math.sqrt(math.pow(x1 - x2, 2) + math.pow(y1 - y2, 2))\n",
    "\n",
    "def strip_closest(P, d) :\n",
    "    n = len(P)\n",
    "    d_min = P\n",
    "    P.sort(key = lambda point: point[1])\n",
    "\n",
    "    for i in range(n) :\n",
    "        j = i + 1\n",
    "        while j < n and (P[j][1] - P[i][1]) < d_min :\n",
    "            dij = distance(P[i], P[j])\n",
    "            if dij < d_min :\n",
    "                d_min = dij\n",
    "            j += 1\n",
    "    return d_min"
   ]
  }
 ],
 "metadata": {
  "language_info": {
   "name": "python"
  }
 },
 "nbformat": 4,
 "nbformat_minor": 2
}
