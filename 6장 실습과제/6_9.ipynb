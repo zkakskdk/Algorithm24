{
 "cells": [
  {
   "cell_type": "markdown",
   "metadata": {},
   "source": [
    "#### 문제 정의"
   ]
  },
  {
   "cell_type": "markdown",
   "metadata": {},
   "source": [
    "문자열의 해시값 찾기"
   ]
  },
  {
   "cell_type": "markdown",
   "metadata": {},
   "source": [
    "#### 알고리즘 개요"
   ]
  },
  {
   "cell_type": "markdown",
   "metadata": {},
   "source": [
    "1. key값을 인자로 받는다.\n",
    "2. 반복문을 이용하여 문자열의 아스키코드값을 모두 더해준다.\n",
    "3. 아스키코드 값을 모두 더한 값을 테이블 크기와 나눠준다."
   ]
  },
  {
   "cell_type": "markdown",
   "metadata": {},
   "source": [
    "#### 손으로 푼 예제"
   ]
  },
  {
   "cell_type": "markdown",
   "metadata": {
    "vscode": {
     "languageId": "plaintext"
    }
   },
   "source": [
    "![poster](./6_9.jpg)"
   ]
  },
  {
   "cell_type": "markdown",
   "metadata": {},
   "source": [
    "#### 코드 개요"
   ]
  },
  {
   "cell_type": "markdown",
   "metadata": {},
   "source": [
    "1. key값을 인자로 받는다.\n",
    "2. 반복문을 이용하여 문자열의 아스키코드값을 모두 더해준다.\n",
    "3. 아스키코드 값을 모두 더한 값을 테이블 크기와 나눠준다."
   ]
  },
  {
   "cell_type": "code",
   "execution_count": null,
   "metadata": {},
   "outputs": [],
   "source": [
    "def hashFn(key):\n",
    "    sum = 0\n",
    "    for c in key:\n",
    "        sum += ord(c)\n",
    "    return sum % M"
   ]
  },
  {
   "cell_type": "code",
   "execution_count": null,
   "metadata": {},
   "outputs": [],
   "source": [
    "def next_prime(A) :\n",
    "    if A <= 1 :\n",
    "        return next_prime(A + 1)\n",
    "    for i in range(2, int(A ** 0.5) + 1) :\n",
    "        if A % i == 0 :\n",
    "            return next_prime(A + 1)\n",
    "    return A\n",
    "\n",
    "\n",
    "def table_size(ex, load) :\n",
    "    M = ex / load\n",
    "    return next_prime(M)\n",
    "\n",
    "ex_data_count = 100\n",
    "load_factor = 0.7\n",
    "M = table_size(ex_data_count, load_factor)\n",
    "\n",
    "def hashFn(key):\n",
    "    sum = 0\n",
    "    for c in key:\n",
    "        sum += ord(c)\n",
    "    return sum % M\n",
    "\n",
    "Key = input(\"문자열 입력 >>\")\n",
    "print(\"%s 의 해시값은 %d\" % (Key, hashFn(Key)))"
   ]
  },
  {
   "cell_type": "markdown",
   "metadata": {},
   "source": [
    "#### 출력 결과"
   ]
  },
  {
   "cell_type": "markdown",
   "metadata": {},
   "source": [
    "![poster](./6_9_re.jpg)"
   ]
  },
  {
   "cell_type": "markdown",
   "metadata": {},
   "source": [
    "#### 시간 복잡도"
   ]
  },
  {
   "cell_type": "markdown",
   "metadata": {},
   "source": [
    "O(1)"
   ]
  }
 ],
 "metadata": {
  "language_info": {
   "name": "python"
  }
 },
 "nbformat": 4,
 "nbformat_minor": 2
}
