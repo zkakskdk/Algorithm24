{
 "cells": [
  {
   "cell_type": "markdown",
   "metadata": {},
   "source": [
    "1. 기수정렬 \n",
    "\n"
   ]
  },
  {
   "cell_type": "markdown",
   "metadata": {},
   "source": [
    "2. 기수 정렬(radix sort)은 기수 별로 비교 없이 수행하는 정렬 알고리즘이다. 기수로는 정수, 낱말, 천공카드 등 다양한 자료를\n",
    "\n",
    " 사용할 수 있으나 크기가 유한하고 사전순으로 정렬할 수 있어야 한다. 버킷 정렬의 일종으로 취급되기도 한다."
   ]
  },
  {
   "cell_type": "markdown",
   "metadata": {},
   "source": [
    "3. ![poster](./KakaoTalk%200522(1).jpg)"
   ]
  },
  {
   "cell_type": "code",
   "execution_count": null,
   "metadata": {},
   "outputs": [],
   "source": [
    "from queue import Queue # 파이썬 queue 모듈의 Queue 사용\n",
    "def radix_sort(A):\n",
    "    queues = []     #큐의 리스트\n",
    "    for i in range(BUCKETS):\n",
    "        queues.append(Queue())  #BUCKETS개의 큐 사용\n",
    "        \n",
    "        n = len(A)\n",
    "        factor = 1 #1의 자리부터 시작\n",
    "        for d in range(DIGITS): #모든 자리에 대해\n",
    "            for i in range(n): #자릿수에 따라 큐에 삽입\n",
    "                queues[(A[i]//factor)%BUCKETS].put(A[i]) #숫자를 삽입\n",
    "            j = 0\n",
    "            for b in range(BUCKETS): #버킷에서 꺼내어 원래의 리스트로\n",
    "                while not queues[b].empty(): # b번째 큐가 공백이 아닌동안\n",
    "                    A[j] = queues[b].get() # 원소를 꺼내 리스트에 저장\n",
    "                    j += 1\n",
    "                factor *= BUCKETS #그 다음 자릿수로 간다.\n",
    "                print(\"step\", d+1, A) #중간 과정 출력용 문장"
   ]
  },
  {
   "cell_type": "code",
   "execution_count": null,
   "metadata": {},
   "outputs": [],
   "source": [
    "import random\n",
    "BUCKETS = 10\n",
    "DIGITS = 4\n",
    "data = []\n",
    "for i in range(10):\n",
    "    data.append(random.randint(1,9999))\n",
    "radix_sort(data)\n",
    "print(\"Radix: \", data)"
   ]
  },
  {
   "cell_type": "code",
   "execution_count": null,
   "metadata": {},
   "outputs": [],
   "source": [
    "import random\n",
    "BUCKETS = 10\n",
    "DIGITS = 4\n",
    "from queue import Queue\n",
    "def radix_sort(A):\n",
    "    queues = []\n",
    "    for i in range(BUCKETS):\n",
    "        queues.append(Queue())\n",
    "        \n",
    "    n = len(A)\n",
    "    factor = 1\n",
    "    for d in range(DIGITS):\n",
    "        for i in range(n):\n",
    "            queues[(A[i]//factor)%BUCKETS].put(A[i])\n",
    "        j = 0\n",
    "        for b in range(BUCKETS):\n",
    "            while not queues[b].empty():\n",
    "                A[j] = queues[b].get()\n",
    "                j += 1\n",
    "        factor *= BUCKETS\n",
    "        print(\"step\", d+1, A)\n",
    "            \n",
    "\n",
    "data = []\n",
    "for i in range(10):\n",
    "    data.append(random.randint(1,9999))\n",
    "radix_sort(data)\n",
    "print(\"Radix: \", data)"
   ]
  },
  {
   "cell_type": "markdown",
   "metadata": {},
   "source": [
    "![poster](./0516.6.1.png)"
   ]
  },
  {
   "cell_type": "markdown",
   "metadata": {},
   "source": [
    "8. 시간복잡도 \n",
    "\n",
    "O(n)"
   ]
  }
 ],
 "metadata": {
  "language_info": {
   "name": "python"
  }
 },
 "nbformat": 4,
 "nbformat_minor": 2
}
