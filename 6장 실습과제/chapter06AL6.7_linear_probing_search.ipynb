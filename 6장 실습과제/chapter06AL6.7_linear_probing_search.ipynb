{
 "cells": [
  {
   "cell_type": "markdown",
   "metadata": {},
   "source": [
    "### 1)문제정의\n",
    "선형 조사법의 탐색 알고리즘"
   ]
  },
  {
   "cell_type": "markdown",
   "metadata": {},
   "source": [
    "### 2)알고리즘 설명\n",
    "1. 주어진 키를 해시 함수를 사용하여 해싱하여 해당하는 해시 값을 얻습니다.\n",
    "\n",
    "2. 해시 값을 시작으로하여 선형 조사법을 사용하여 해시 테이블을 순회합니다.\n",
    "\n",
    "3. 순회하는 동안에는 최대 시도 횟수에 도달하거나 빈 슬롯을 만날 때까지 계속합니다.\n",
    "\n",
    "4. 각 인덱스에서 해시 테이블의 값이 주어진 키와 일치하는지 확인합니다. 일치하는 경우 해당 값을 반환합니다.\n",
    "\n",
    "5. 일치하는 값이 없거나 최대 시도 횟수를 초과한 경우에는 None을 반환합니다.\n"
   ]
  },
  {
   "cell_type": "markdown",
   "metadata": {},
   "source": [
    "### 3)손으로 푼 문제\n",
    "![poster](./linear_probing_search_1.jpg)\n"
   ]
  },
  {
   "cell_type": "markdown",
   "metadata": {},
   "source": [
    "### 4)코드 개요\n",
    "1. def lp_search(key): 탐색 알고리즘 함수 선언\n",
    "\n",
    "2. id = hashFn(key)  주어진 키를 해시하여 해당하는 해시값을 얻음\n",
    "\n",
    "3. count = M  최대 시도 횟수를 설정\n",
    "\n",
    "4. while count > 0:  최대 시도 횟수가 남아 있는 동안 반복\n",
    "\n",
    "5. if table[id] == None:  현재 인덱스의 값이 None인 경우\n",
    "\n",
    "6. return None  값을 찾지 못한 것으로 None 반환\n",
    "\n",
    "7. if table[id] == key:  현재 인덱스의 값이 주어진 키와 일치하는 경우\n",
    "\n",
    "8. id = (id + 1 + M) % M  다음 인덱스로 이동 (선형 조사법)\n",
    "\n",
    "9. count -= 1  시도 횟수 감소\n",
    "\n",
    "10.  return None  최대 시도 횟수를 초과하여 값을 찾지 못한 경우 None 반환"
   ]
  },
  {
   "cell_type": "markdown",
   "metadata": {},
   "source": [
    "### 5)알고리즘 코드"
   ]
  },
  {
   "cell_type": "code",
   "execution_count": null,
   "metadata": {},
   "outputs": [],
   "source": [
    "def lp_search(key):\n",
    "    id = hashFn(key)\n",
    "    count = M\n",
    "    while count >0:\n",
    "        if table[id] == None:\n",
    "            return None\n",
    "        if table[id] == key:\n",
    "            return table[id]\n",
    "        id = (id + 1 + M) % M\n",
    "        count -= 1\n",
    "    return None"
   ]
  },
  {
   "cell_type": "markdown",
   "metadata": {},
   "source": [
    "### 6)테스트 코드"
   ]
  },
  {
   "cell_type": "code",
   "execution_count": null,
   "metadata": {},
   "outputs": [],
   "source": [
    "M = 13\n",
    "table = [None] * M\n",
    "\n",
    "def hashFn(key):\n",
    "    return key % M\n",
    "\n",
    "def lp_insert(key):\n",
    "    id = hashFn(key)\n",
    "    count = M\n",
    "    while count > 0 and table[id] is not None:\n",
    "        id = (id + 1 + M) % M\n",
    "        count -= 1\n",
    "    if count > 0:\n",
    "        table[id] = key\n",
    "\n",
    "def lp_search(key):\n",
    "    id = hashFn(key)\n",
    "    count = M\n",
    "    while count > 0:\n",
    "        if table[id] == None:\n",
    "            return None\n",
    "        if table[id] == key:\n",
    "            return table[id]\n",
    "        id = (id + 1 + M) % M\n",
    "        count -= 1\n",
    "    return None\n",
    "\n",
    "keys = [7, 20, 13, 5, 18]\n",
    "for key in keys:\n",
    "    lp_insert(key)\n",
    "\n",
    "search_key = 13\n",
    "result = lp_search(search_key)\n",
    "print(f\"키 {search_key}를 탐색 중: {result}\")\n",
    "\n",
    "search_key = 25\n",
    "result = lp_search(search_key)\n",
    "print(f\"키 {search_key}를 탐색 중: {result}\")\n"
   ]
  },
  {
   "cell_type": "markdown",
   "metadata": {},
   "source": [
    "### 7)수행 결과\n",
    "![poster](./linear_probing_search_2.png)"
   ]
  },
  {
   "cell_type": "markdown",
   "metadata": {},
   "source": [
    "### 8)복잡도 계산\n",
    "시간 복잡도: 해시 테이블의 모든 슬롯을 순회하는 과정에서 최악의 경우에는 M번의 반복이 필요하므로 시간 복잡도는 O(M) = 선형 O(n)\n",
    "\n",
    "공간 복잡도: M으로 정의된 고정된 크기의 해시 테이블을 사용하고 있으므로 O(M)"
   ]
  },
  {
   "cell_type": "markdown",
   "metadata": {},
   "source": [
    "### 9)조별 협력 내용\n",
    "각자 맡은 실습과제를 성실히 임하였고 서로 모르는 부분이 있으면 도와주었다.   \n",
    "김민범: 6.1 6.2   \n",
    "김지성: 6.3 6.4   \n",
    "차일권: 6.6 6.7   \n",
    "신연준: 6.8 6.9   "
   ]
  }
 ],
 "metadata": {
  "language_info": {
   "name": "python"
  }
 },
 "nbformat": 4,
 "nbformat_minor": 2
}
