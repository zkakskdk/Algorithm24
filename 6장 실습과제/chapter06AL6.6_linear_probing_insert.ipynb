{
 "cells": [
  {
   "cell_type": "markdown",
   "metadata": {},
   "source": [
    "### 1)문제정의\n",
    "선형 조사법의 삽입 알고리즘"
   ]
  },
  {
   "cell_type": "markdown",
   "metadata": {},
   "source": [
    "### 2)알고리즘 설명\n",
    "1. 해시 테이블의 크기를 결정하기 위해 M 변수에 13이 할당됩니다.\n",
    "\n",
    "2. table 변수는 길이가 M이고 모든 요소가 None으로 초기화된 리스트로 초기화됩니다. \n",
    "\n",
    "3. hashFn 함수는 주어진 key를 해시하여 테이블의 인덱스를 반환합니다. 여기서는 간단한 나머지 연산을 사용하여 해시 값을 계산합니다.\n",
    "\n",
    "4. lp_insert 함수는 주어진 key를 해시하여 해시 테이블에 삽입합니다. 우선 hashFn 함수를 사용하여 주어진 key의 해시 값을 계산하고, 이 값을 id 변수에 할당합니다.\n",
    "\n",
    "5. 최대 시도 횟수인 count를 설정하고, 이 값을 M으로 초기화합니다.\n",
    "\n",
    "6. while루프는 count가 0보다 크고 해당 인덱스에 이미 다른 값이 있는지 확인합니다.\n",
    "\n",
    "7. 만약 해당 인덱스에 이미 값이 존재한다면 선형 조사법을 사용하여 다음 인덱스로 이동합니다. 이때 (id + 1 + M) % M를 사용하여 다음 인덱스를 계산합니다. 이렇게 함으로써 테이블의 끝에 도달하면 다시 처음으로 돌아가게 됩니다.   \n",
    "   \n",
    "8. 빈 슬롯을 찾거나 count가 0이 되면 해당 인덱스에 key를 삽입하고 루프를 종료합니다.\n",
    "\n",
    "9. 최종적으로 lp_insert 함수는 None이 아닌 슬롯을 찾거나 count가 0이 될 때까지 while 루프를 반복하며 key를 삽입합니다."
   ]
  },
  {
   "cell_type": "markdown",
   "metadata": {},
   "source": [
    "### 3)손으로 푼 문제\n",
    "![poster](./linear_probing_insert_1.1.jpg)\n",
    "![poster](./linear_probing_insert_1.jpg)"
   ]
  },
  {
   "cell_type": "markdown",
   "metadata": {},
   "source": [
    "### 4)코드 개요\n",
    "1. M = 13  해시 테이블의 크기\n",
    "\n",
    "2. table = [None]*M  해시 테이블 초기값은 모두 None\n",
    "\n",
    "3. def hashFn(key):      \n",
    "    return key % M    주어진 key를 해시하여 테이블의 인덱스를 반환   \n",
    "\n",
    "4. def lp_insert(key): 선형 조사법을 사용하여 키를 해시 테이블에 삽입하는 함수\n",
    "\n",
    "5. id = hashFn(key)  주어진 키의 해시값을 계산\n",
    "\n",
    "6. count = M  최대 시도 횟수 설정\n",
    "\n",
    "7. while count > 0 and (table[id] != None):  최대 시도 횟수가 남아있고 해당 인덱스가 비어 있지 않을 때\n",
    "\n",
    "8. id = (id + 1 + M) % M  다음 인덱스로 이동 (선형 조사법)\n",
    "\n",
    "9.  count -= 1  시도 횟수 감소\n",
    "\n",
    "10. if count > 0: 시도 횟수가 남아 있을 때\n",
    "\n",
    "11. table[id] = key  키를 해당 인덱스에 삽입"
   ]
  },
  {
   "cell_type": "markdown",
   "metadata": {},
   "source": [
    "### 5)알고리즘 코드"
   ]
  },
  {
   "cell_type": "code",
   "execution_count": null,
   "metadata": {},
   "outputs": [],
   "source": [
    "M = 13\n",
    "table = [None]*M\n",
    "def hashFn(key):\n",
    "    return key % M\n",
    "\n",
    "def lp_insert(key):\n",
    "    id = hashFn(key)\n",
    "    count = M\n",
    "    while count>0 and (table[id] != None):\n",
    "        id = (id + 1 + M) % M\n",
    "        count -= 1\n",
    "    if count > 0:\n",
    "        table[id] = key\n",
    "    return"
   ]
  },
  {
   "cell_type": "markdown",
   "metadata": {},
   "source": [
    "### 6)테스트 코드"
   ]
  },
  {
   "cell_type": "code",
   "execution_count": null,
   "metadata": {},
   "outputs": [],
   "source": [
    "def print_table():\n",
    "    print(\"Hash Table:\")\n",
    "    for i, item in enumerate(table):\n",
    "        print(f\"Index {i}: {item}\")\n",
    "\n",
    "M = 13\n",
    "table = [None]*M\n",
    "\n",
    "def hashFn(key):\n",
    "    return key % M\n",
    "\n",
    "def lp_insert(key):\n",
    "    id = hashFn(key)\n",
    "    count = M\n",
    "    while count > 0 and (table[id] != None):\n",
    "        id = (id + 1 + M) % M\n",
    "        count -= 1\n",
    "    if count > 0:\n",
    "        table[id] = key\n",
    "\n",
    "test_keys = [3, 5, 8, 16, 20]\n",
    "for key in test_keys:\n",
    "    lp_insert(key)\n",
    "\n",
    "print_table()\n"
   ]
  },
  {
   "cell_type": "markdown",
   "metadata": {},
   "source": [
    "### 7)수행 결과\n",
    "![poster](./linear_probing_insert_2.png)"
   ]
  },
  {
   "cell_type": "markdown",
   "metadata": {},
   "source": [
    "### 8)복잡도 계산\n",
    "시간 복잡도: lp_insert: 선형 조사법은 충돌이 발생했을 때 다음 인덱스로 선형적으로 이동하면서 빈 슬롯을 찾는 방식이다.   \n",
    "최악의 경우에는 해시 테이블이 가득 차 있고 모든 슬롯을 조사해야 하므로 시간 복잡도는 O(n)   \n",
    "\n",
    "공간 복잡도: 테이블의 크기를 나타내는 변수 M에 의해 결정되기 때문에 공간 복잡도는 O(M)"
   ]
  },
  {
   "cell_type": "markdown",
   "metadata": {},
   "source": [
    "### 9)조별 협력 내용\n",
    "각자 맡은 실습과제를 성실히 임하였고 서로 모르는 부분이 있으면 도와주었다.   \n",
    "김민범: 6.1 6.2   \n",
    "김지성: 6.3 6.4   \n",
    "차일권: 6.6 6.7   \n",
    "신연준: 6.8 6.9   "
   ]
  }
 ],
 "metadata": {
  "language_info": {
   "name": "python"
  }
 },
 "nbformat": 4,
 "nbformat_minor": 2
}
