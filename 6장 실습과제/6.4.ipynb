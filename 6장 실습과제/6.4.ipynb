{
 "cells": [
  {
   "cell_type": "markdown",
   "metadata": {},
   "source": [
    "# 1. 문제 정의\n",
    "호스풀 알고리즘"
   ]
  },
  {
   "cell_type": "markdown",
   "metadata": {},
   "source": [
    "# 2. 알고리즘 설명\n",
    "이 코드는 Boyer-Moore 알고리즘을 기반으로 한 문자열 검색 알고리즘의 구현이다. 주어진 텍스트 문자열에서 패턴 문자열을 검색하고, 패턴이 발견되는 첫 번째 위치를 반환하거나 발견되지 않을 경우 -1을 반환한다.\n",
    "\n",
    "search_horspool 함수: 이 함수는 주어진 텍스트 문자열 T와 패턴 문자열 P를 입력으로 받는다. 패턴이 텍스트에서 발견되면 해당 위치를 반환하고, 발견되지 않으면 -1을 반환한다.\n",
    "\n",
    "shift_table 함수: 이 함수는 이동 거리 테이블을 생성하는 데 사용된다. 이 테이블은 Boyer-Moore 알고리즘에서 패턴을 이동시키는 데 사용된다.\n",
    "\n",
    "m, n: 각각 패턴과 텍스트의 길이를 나타내는 변수이다.\n",
    "\n",
    "t: 패턴의 이동 거리 테이블을 저장하는 변수다. 이 테이블은 shift_table 함수를 통해 생성된다.\n",
    "\n",
    "i: 텍스트에서 현재 비교하는 위치를 나타내는 변수다. 초기값은 패턴의 마지막 위치다.\n",
    "\n",
    "k: 패턴 내에서 비교하는 위치를 나타내는 변수다. 초기값은 0이다."
   ]
  },
  {
   "cell_type": "markdown",
   "metadata": {},
   "source": [
    "# 3. 손으로 푼 예제\n",
    "![poster](./6.4.jpg)"
   ]
  },
  {
   "cell_type": "markdown",
   "metadata": {},
   "source": [
    "# 4. 알고리즘 개요\n",
    "shift_table 함수를 사용하여 패턴의 이동 거리 테이블을 생성한다.\n",
    "\n",
    "텍스트에서 패턴을 검색하기 위해 루프를 시작한다. 루프 변수 i를 패턴의 마지막 인덱스로 초기화한다.\n",
    "\n",
    "루프 내부에서 두 번째 루프를 사용하여 패턴과 텍스트를 비교한다. 이 비교는 패턴의 끝부터 시작하여 왼쪽으로 이동하며 수행된다.\n",
    "\n",
    "일치하는 문자를 찾을 때까지 두 문자열을 비교한다. 일치하지 않는 경우, 패턴의 이동 거리 테이블을 사용하여 텍스트에서 패턴을 빠르게 이동시킨다.\n",
    "\n",
    "일치하는 문자열을 찾으면 해당 위치를 반환한다. 일치하는 문자열을 찾지 못하고 루프가 끝나면 -1을 반환한다."
   ]
  },
  {
   "cell_type": "code",
   "execution_count": 2,
   "metadata": {},
   "outputs": [],
   "source": [
    "# 5. 알고리즘\n",
    "def search_horspool(T,P):\n",
    "    m = len(P)\n",
    "    n = len(T)\n",
    "    t = shift_table(p)\n",
    "    i = m-1\n",
    "    while(i <= n-1):\n",
    "        k = 0\n",
    "        while k <= m-1 and P[m-1-k]==T[i-k]:\n",
    "            k += 1\n",
    "        if k == m:\n",
    "            return i-m+1\n",
    "        else :\n",
    "            tc = t[ord(T[i-k])]\n",
    "            i += (tc-k)\n",
    "    return -1\n"
   ]
  },
  {
   "cell_type": "code",
   "execution_count": 8,
   "metadata": {},
   "outputs": [
    {
     "name": "stdout",
     "output_type": "stream",
     "text": [
      "패턴의 위치: 10\n"
     ]
    }
   ],
   "source": [
    "# 6. 테스트 코드\n",
    "def shift_table(pat):\n",
    "    m = len(pat)\n",
    "    tb1 = [m]*128\n",
    "\n",
    "    for i in range(m-1):\n",
    "        tb1[ord(pat[i])] = m-1-i\n",
    "    return tb1\n",
    "\n",
    "def search_horspool(T, P):\n",
    "    m = len(P)\n",
    "    n = len(T)\n",
    "    t = shift_table(P) \n",
    "    i = m - 1\n",
    "    while(i <= n - 1):\n",
    "        k = 0\n",
    "        while k <= m - 1 and P[m - 1 - k] == T[i - k]:\n",
    "            k += 1\n",
    "        if k == m:\n",
    "            return i - m + 1\n",
    "        else:\n",
    "            tc = t[ord(T[i - k])]\n",
    "            i += (tc - k)\n",
    "    return -1\n",
    "\n",
    "text = \"APPLEMANGOBANANAGRAPE\"\n",
    "pattern = \"BANANA\"\n",
    "result = search_horspool(text, pattern)\n",
    "if result != -1:\n",
    "    print(\"패턴의 위치:\", result)\n",
    "else:\n",
    "    print(\"패턴이 텍스트 내에서 발견되지 않았습니다.\")"
   ]
  },
  {
   "cell_type": "markdown",
   "metadata": {},
   "source": [
    "# 7. 테스트 코드 결과\n",
    "![poster](./6.4%20test.png)"
   ]
  },
  {
   "cell_type": "markdown",
   "metadata": {},
   "source": [
    "# 8. 복잡도\n",
    "패턴 문자열의 이동 테이블을 생성하는 단계는 O(m)이다.\n",
    "\n",
    "주요 루프에서 각 반복은 일치하지 않는 문자가 발견될 때마다 한 번씩 발생한다. 이 반복은 텍스트 문자열의 끝까지 진행되므로 최악의 경우에는 O(n)이다."
   ]
  }
 ],
 "metadata": {
  "kernelspec": {
   "display_name": "base",
   "language": "python",
   "name": "python3"
  },
  "language_info": {
   "codemirror_mode": {
    "name": "ipython",
    "version": 3
   },
   "file_extension": ".py",
   "mimetype": "text/x-python",
   "name": "python",
   "nbconvert_exporter": "python",
   "pygments_lexer": "ipython3",
   "version": "3.11.7"
  }
 },
 "nbformat": 4,
 "nbformat_minor": 2
}
