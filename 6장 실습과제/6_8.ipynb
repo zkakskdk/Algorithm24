{
 "cells": [
  {
   "cell_type": "markdown",
   "metadata": {},
   "source": [
    "#### 문제 정의"
   ]
  },
  {
   "cell_type": "markdown",
   "metadata": {},
   "source": [
    "선형 조사법의 삭제 알고리즘"
   ]
  },
  {
   "cell_type": "markdown",
   "metadata": {},
   "source": [
    "#### 알고리즘 개요"
   ]
  },
  {
   "cell_type": "markdown",
   "metadata": {},
   "source": [
    "1. key값을 인자로 받는다.\n",
    "2. 해시값을 변수에 저장한다.\n",
    "3. 루프를 돌려 삭제를 한다."
   ]
  },
  {
   "cell_type": "markdown",
   "metadata": {},
   "source": [
    "#### 손으로 푼 예제"
   ]
  },
  {
   "cell_type": "markdown",
   "metadata": {
    "vscode": {
     "languageId": "plaintext"
    }
   },
   "source": [
    "![poster](./6_8.jpg)"
   ]
  },
  {
   "cell_type": "markdown",
   "metadata": {},
   "source": [
    "#### 코드 개요"
   ]
  },
  {
   "cell_type": "markdown",
   "metadata": {},
   "source": [
    "1. key값을 인자로 받는다.\n",
    "2. while루프를 이용하여 count가 0보다 크면 루프를 돌린다.\n",
    "3. 루프를 이용하여 삭제한다."
   ]
  },
  {
   "cell_type": "code",
   "execution_count": null,
   "metadata": {},
   "outputs": [],
   "source": [
    "def lp_delete(key) :\n",
    "    id = hashFn(key)\n",
    "    count = M\n",
    "    while count > 0 :\n",
    "        if table[id] == None : return\n",
    "        if table[id] != -1 and table[id] == key :\n",
    "            table[id] = -1\n",
    "            return\n",
    "        id = (id + 1 + M) % M\n",
    "        count == -1"
   ]
  },
  {
   "cell_type": "code",
   "execution_count": null,
   "metadata": {},
   "outputs": [],
   "source": [
    "M = 13\n",
    "table = [None]*M\n",
    "\n",
    "def hashFn(key) :\n",
    "    return key % M\n",
    "\n",
    "def lp_insert(key) :\n",
    "    id = hashFn(key)\n",
    "    count = M\n",
    "    while count>0 and (table[id] != None and table[id] != -1) :\n",
    "        id = (id + 1 + M) % M\n",
    "        count -= 1\n",
    "    if count > 0 :\n",
    "        table[id] = key\n",
    "    return\n",
    "\n",
    "def lp_search(key) :\n",
    "    id = hashFn(key)\n",
    "    count = M\n",
    "    while count > 0 :\n",
    "        if table[id] == None :\n",
    "            return None\n",
    "        if table[id] != -1 and table[id] == key :\n",
    "            return table[id]\n",
    "        id = (id + 1 + M) % M\n",
    "        count -= 1\n",
    "        return None\n",
    "    \n",
    "def lp_delete(key) :\n",
    "    id = hashFn(key)\n",
    "    count = M\n",
    "    while count >0 :\n",
    "        if table[id] == None : return\n",
    "        if table[id] != -1 and table[id] == key :\n",
    "            table[id] = -1\n",
    "            return \n",
    "        id = (id + 1 + M) % M\n",
    "        count -= 1\n",
    "lp_insert(1)\n",
    "lp_insert(6)\n",
    "lp_insert(23)\n",
    "lp_insert(65)\n",
    "print(table)\n",
    "lp_delete(23)\n",
    "lp_insert(12)\n",
    "print(table)"
   ]
  },
  {
   "cell_type": "markdown",
   "metadata": {},
   "source": [
    "#### 출력 결과"
   ]
  },
  {
   "cell_type": "markdown",
   "metadata": {},
   "source": [
    "![poster](./6_9_re.jpg)"
   ]
  },
  {
   "cell_type": "markdown",
   "metadata": {},
   "source": [
    "#### 시간 복잡도"
   ]
  },
  {
   "cell_type": "markdown",
   "metadata": {},
   "source": [
    "O(M)"
   ]
  }
 ],
 "metadata": {
  "language_info": {
   "name": "python"
  }
 },
 "nbformat": 4,
 "nbformat_minor": 2
}
