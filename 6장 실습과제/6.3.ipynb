{
 "cells": [
  {
   "cell_type": "markdown",
   "metadata": {},
   "source": [
    "# 1. 문제정의\n",
    "호스풀 알고리즘의 시프트 테이블 만들기"
   ]
  },
  {
   "cell_type": "markdown",
   "metadata": {},
   "source": [
    "# 2. 알고리즘 설명\n",
    "이 코드의 핵심은 \"shift_table\" 함수이다. 이 함수는 패턴 문자열에 기반하여 각 문자가 얼마나 이동할지를 결정하는 테이블을 생성한다. 이동 거리는 일치하지 않는 문자가 발생했을 때 패턴을 이동시키는 데 사용된다.\n",
    "\n",
    "NO_OF_CHARS: 이 변수는 문자 집합의 크기를 나타낸다. 대부분의 경우 ASCII 문자 집합(0~127)을 사용하므로 128로 설정된다.\n",
    "\n",
    "shift_table 함수: 이 함수는 패턴 문자열을 받아들여 각 문자에 대한 이동 거리를 계산하여 테이블을 생성한다. 이동 거리는 일치하지 않는 문자가 발생했을 때 패턴을 이동시키는 데 사용된다.\n",
    "\n",
    "m: 패턴 문자열의 길이다.\n",
    "\n",
    "tb1: 패턴 문자열의 각 문자에 대한 이동 거리를 저장하는 테이블이다. 초기에는 모든 문자에 대해 패턴의 길이로 초기화된다.\n",
    "\n",
    "ord(pat[i]): 이 부분은 문자열의 각 문자를 ASCII 코드로 변환한다. 이는 테이블의 인덱스로 사용된다.\n",
    "\n",
    "tb1[ord(pat[i])] = m-1-i: 패턴의 각 문자에 대해 패턴 길이에서 현재 인덱스를 뺀 값으로 이동 거리를 설정한다. 패턴의 마지막 문자는 이동할 필요가 없으므로 이동 거리는 0이 된다.\n"
   ]
  },
  {
   "cell_type": "markdown",
   "metadata": {},
   "source": [
    "# 3. 손으로 푼 예제\n",
    "![poster](./6.3.jpg)"
   ]
  },
  {
   "cell_type": "markdown",
   "metadata": {},
   "source": [
    "# 4. 알고리즘 개요\n",
    "오프셋 테이블 생성: 패턴 문자열을 분석하여 각 문자에 대한 이동 거리를 결정하는 테이블을 생성한다. 이동 거리는 일치하지 않는 문자가 발견되었을 때 패턴을 이동시키는 데 사용된다.\n",
    "\n",
    "검색: 주어진 텍스트 문자열에서 패턴을 검색한다. 검색은 텍스트 문자열에서 패턴의 마지막 문자와 일치하는 문자를 찾을 때까지 계속된다. 일치하지 않는 문자가 발견되면 오프셋 테이블을 사용하여 패턴을 더 빠르게 이동시킨다.\n",
    "\n",
    "이동: 일치하지 않는 문자가 발견된 경우, 해당 문자의 오프셋 테이블 값을 사용하여 패턴을 이동시킨다. 이동 거리는 일치하지 않는 문자의 위치에 따라 다르다. 일치하지 않는 문자가 패턴 안에 없는 경우, 패턴 전체를 텍스트에서 일치하지 않는 문자 바로 다음으로 이동시킨다. 일치하지 않는 문자가 패턴 안에 있는 경우, 패턴을 일치하지 않는 문자 바로 다음으로 이동시킨다.\n",
    "\n",
    "일치 검사: 패턴이 텍스트 문자열에 완전히 일치하는지 확인한다. 만약 일치하면, 해당 위치를 결과로 반환하거나 다른 작업을 수행한다. 일치하지 않으면 검색을 계속 진행한다."
   ]
  },
  {
   "cell_type": "code",
   "execution_count": 2,
   "metadata": {},
   "outputs": [],
   "source": [
    "# 5. 알고리즘\n",
    "NO_OF_CHARS = 128\n",
    "def shift_table(pat):\n",
    "    m = len(pat)\n",
    "    tb1 = [m]*NO_OF_CHARS\n",
    "\n",
    "    for i in range(m-1):\n",
    "        tb1[ord(pat[i])] = m-1-i\n",
    "    return tb1\n"
   ]
  },
  {
   "cell_type": "code",
   "execution_count": 3,
   "metadata": {},
   "outputs": [
    {
     "name": "stdout",
     "output_type": "stream",
     "text": [
      "패턴의 위치: 10\n"
     ]
    }
   ],
   "source": [
    "# 6. 테스트 코드\n",
    "NO_OF_CHARS = 128\n",
    "\n",
    "def shift_table(pat):\n",
    "    m = len(pat)\n",
    "    tb1 = [m]*NO_OF_CHARS\n",
    "\n",
    "    for i in range(m-1):\n",
    "        tb1[ord(pat[i])] = m-1-i\n",
    "    return tb1\n",
    "\n",
    "def search_horspool(text, pat):\n",
    "    m = len(pat)\n",
    "    n = len(text)\n",
    "    tb1 = shift_table(pat)\n",
    "    i = m - 1\n",
    "\n",
    "    while i < n:\n",
    "        k = 0\n",
    "        while k < m and pat[m-1-k] == text[i-k]:\n",
    "            k += 1\n",
    "        if k == m:\n",
    "            return i - m + 1\n",
    "        else:\n",
    "            i += tb1[ord(text[i])]\n",
    "    return -1\n",
    "\n",
    "text = \"APPLEMANGOBANANAGRAPE\"\n",
    "pattern = \"BANANA\"\n",
    "result = search_horspool(text, pattern)\n",
    "if result != -1:\n",
    "    print(\"패턴의 위치:\", result)\n",
    "else:\n",
    "    print(\"패턴이 텍스트 내에서 발견되지 않았습니다.\")"
   ]
  },
  {
   "cell_type": "markdown",
   "metadata": {},
   "source": [
    "# 7. 테스트 코드 결과\n",
    "![poster](./6.3%20test.png)"
   ]
  },
  {
   "cell_type": "markdown",
   "metadata": {},
   "source": [
    "# 8. 복잡도\n",
    "텍스트에서 일치하지 않는 문자가 발견되었을 때 이동 거리를 계산하기 위해 테이블을 사용하는 부분은 O(1)이다.\n",
    "\n",
    "최악의 경우에는 최악의 이동 거리가 텍스트의 길이에 비례하여 O(n)이 될 수 있다."
   ]
  }
 ],
 "metadata": {
  "kernelspec": {
   "display_name": "base",
   "language": "python",
   "name": "python3"
  },
  "language_info": {
   "codemirror_mode": {
    "name": "ipython",
    "version": 3
   },
   "file_extension": ".py",
   "mimetype": "text/x-python",
   "name": "python",
   "nbconvert_exporter": "python",
   "pygments_lexer": "ipython3",
   "version": "3.11.7"
  }
 },
 "nbformat": 4,
 "nbformat_minor": 2
}
