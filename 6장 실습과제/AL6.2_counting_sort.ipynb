{
 "cells": [
  {
   "cell_type": "markdown",
   "metadata": {},
   "source": [
    "1. 카운팅 정렬"
   ]
  },
  {
   "cell_type": "markdown",
   "metadata": {},
   "source": [
    "2.  항목들의 순서를 결정하기 위해 집합에 각 항목이 몇개씩 있는지 세어서 적절한 위치에 선형시간에 정렬하는 방법입니다."
   ]
  },
  {
   "cell_type": "markdown",
   "metadata": {},
   "source": [
    "3. ![poster](./KakaoTalk%200522(2).jpg)"
   ]
  },
  {
   "cell_type": "code",
   "execution_count": null,
   "metadata": {},
   "outputs": [],
   "source": [
    "def counting_sort(A): \n",
    "    output = [0] * len(A) # 정렬 결과저장용 임시 리스트\n",
    "    count = [0] * MAX_VAL # 각 숫자의 빈도를 저장\n",
    "    \n",
    "    for i in A: # 각 숫자별 빈도를 계산\n",
    "        count[i] += 1\n",
    "        \n",
    "    for i in range(MAX_VAL): #count[i]가 출력 배열에서\n",
    "        count[i]+=count[i-1] #해당 숫자의 위치가 되도록 수정\n",
    "        \n",
    "    for i in range(len(A)): # 모든 입력항복 A[i]에 대해\n",
    "        output[count[A[i]]-1] = A[i] # 해당 위치(count[A[i]]-1)에 저장\n",
    "        count[A[i]] -= 1 #킷값 A[i]의 위치를 하나 줄임\n",
    "            \n",
    "    for i in range(len(A)): # 정렬 결과를 원래 배열에 복사\n",
    "        A[i] = output[i]"
   ]
  },
  {
   "cell_type": "code",
   "execution_count": null,
   "metadata": {},
   "outputs": [],
   "source": [
    "MAX_VAL = 10\n",
    "data = [1, 4, 1, 2, 7, 5, 2]\n",
    "print(\"Original : \", data)\n",
    "counting_sort(data)\n",
    "print(\"Counting : \", data)"
   ]
  },
  {
   "cell_type": "code",
   "execution_count": null,
   "metadata": {},
   "outputs": [],
   "source": [
    "def counting_sort(A):\n",
    "    output = [0] * len(A)\n",
    "    count = [0] * MAX_VAL\n",
    "    \n",
    "    for i in A:\n",
    "        count[i] += 1\n",
    "        \n",
    "    for i in range(MAX_VAL):\n",
    "        count[i]+=count[i-1]\n",
    "        \n",
    "    for i in range(len(A)):\n",
    "        output[count[A[i]]-1] = A[i]\n",
    "        count[A[i]] -= 1\n",
    "            \n",
    "    for i in range(len(A)):\n",
    "        A[i] = output[i]\n",
    "    \n",
    "MAX_VAL = 10\n",
    "data = [1, 4, 1, 2, 7, 5, 2]\n",
    "print(\"Original : \", data)\n",
    "counting_sort(data)\n",
    "print(\"Counting : \", data)"
   ]
  },
  {
   "cell_type": "markdown",
   "metadata": {},
   "source": [
    "![poster](./0516.6.2.png)"
   ]
  },
  {
   "cell_type": "markdown",
   "metadata": {},
   "source": [
    "8. 시간 복잡도\n",
    "\n",
    "O(n)"
   ]
  },
  {
   "cell_type": "markdown",
   "metadata": {},
   "source": []
  }
 ],
 "metadata": {
  "language_info": {
   "name": "python"
  }
 },
 "nbformat": 4,
 "nbformat_minor": 2
}
