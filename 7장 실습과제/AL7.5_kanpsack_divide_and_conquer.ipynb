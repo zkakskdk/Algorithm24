{
 "cells": [
  {
   "cell_type": "markdown",
   "metadata": {},
   "source": [
    "### 1)문제정의\n",
    "분할 정복 기법을 사용한 0-1 배낭 채우기 알고리즘"
   ]
  },
  {
   "cell_type": "markdown",
   "metadata": {},
   "source": [
    "### 2)알고리즘 설명\n",
    "기저 조건   \n",
    "n == 0이거나 W == 0인 경우, 배낭에 더 이상 물건을 넣을 수 없으므로 함수는 0을 반환합니다.   \n",
    "\n",
    "무게 초과 확인   \n",
    "wt[n-1] > W인 경우, 현재 고려 중인 물건을 배낭에 넣을 수 없으므로 이 물건을 제외하고 문제를 해결합니다. 이후 이때는 knapSack_dc(W, wt, val, n-1)을 호출합니다.   \n",
    "\n",
    "물건을 넣거나 넣지 않는 경우   \n",
    "현재 고려 중인 물건을 배낭에 넣지 않는 경우의 가치를 계산 valWithout = knapSack_dc(W, wt, val, n-1)   \n",
    "현재 고려 중인 물건을 배낭에 넣는 경우의 가치를 계산 valWith = val[n-1] + knapSack_dc(W - wt[n-1], wt, val, n-1)   \n",
    "두 경우 중 더 큰 가치를 반환 return max(valWith, valWithout)\n"
   ]
  },
  {
   "cell_type": "markdown",
   "metadata": {},
   "source": [
    "### 3)손으로 푼 문제\n",
    "![poster](./AL7.6_kanpsack_dynamic_programming_2.jpg)"
   ]
  },
  {
   "cell_type": "markdown",
   "metadata": {},
   "source": [
    "### 4)코드 개요\n",
    "1. if n == 0 or W == 0: return 0  물건이 더 이상 없거나 배낭에 남은 용량이 없으면 0을 반환\n",
    "2. if wt[n-1] > W: return knapSack_dc(W, wt, val, n-1) 현재 물건의 무게가 배낭의 남은 용량보다 크면 현재 물건을 배낭에 넣을 수 없음 따라서 현재 물건을 제외하고 나머지 물건들로 문제를 해결\n",
    "3. valWithout = knapSack_dc(W, wt, val, n-1) 현재 물건을 배낭에 넣지 않은 경우의 최대 가치\n",
    "4. valWith = val[n-1] + knapSack_dc(W - wt[n-1], wt, val, n-1)  현재 물건을 배낭에 넣은 경우의 최대 가치\n",
    "5. eturn max(valWith, valWithout) 두 경우 중 더 큰 가치를 반환"
   ]
  },
  {
   "cell_type": "markdown",
   "metadata": {},
   "source": [
    "### 5)알고리즘 코드\n"
   ]
  },
  {
   "cell_type": "code",
   "execution_count": null,
   "metadata": {},
   "outputs": [],
   "source": [
    "def knapSack_dc(W, wt, val, n):\n",
    "    if n == 0 or W == 0:\n",
    "        return 0\n",
    "    \n",
    "    if (wt[n-1] > W):\n",
    "        return KnapSack_bf(W,wt,val,n-1)\n",
    "    \n",
    "    else:\n",
    "        valWithout = knapSack_bf(W, wt, val, n-1)\n",
    "        valWith = val[n-1] + knapSack_bf(W-wt[n-1],wt,val,n-1)\n",
    "        return max(valWith, valWithout)"
   ]
  },
  {
   "cell_type": "markdown",
   "metadata": {},
   "source": [
    "### 6)테스트 코드"
   ]
  },
  {
   "cell_type": "code",
   "execution_count": null,
   "metadata": {},
   "outputs": [],
   "source": [
    "def knapSack_dc(W, wt, val, n):\n",
    "    if n == 0 or W == 0:\n",
    "        return 0\n",
    "\n",
    "    if wt[n-1] > W:\n",
    "        return knapSack_dc(W, wt, val, n-1)\n",
    "    \n",
    "    else:\n",
    "        valWithout = knapSack_dc(W, wt, val, n-1)\n",
    "        \n",
    "        valWith = val[n-1] + knapSack_dc(W - wt[n-1], wt, val, n-1)\n",
    "        \n",
    "        return max(valWith, valWithout)\n",
    "\n",
    "W = 50  \n",
    "wt = [10, 20, 30] \n",
    "val = [60, 100, 120]  \n",
    "n = len(wt)  \n",
    "\n",
    "print(knapSack_dc(W, wt, val, n))\n"
   ]
  },
  {
   "cell_type": "markdown",
   "metadata": {},
   "source": [
    "### 7)수행 결과\n",
    "![poster](./AL7.6_kanpsack_dynamic_programming_1.png)"
   ]
  },
  {
   "cell_type": "markdown",
   "metadata": {},
   "source": [
    "### 8)복잡도 계산\n",
    "0-1 배낭 문제의 분할 정복 알고리즘은 재귀적으로 모든 가능한 물건의 조합을 탐색하는데 각 물건에 대해 두 가지 선택이 있습니다   \n",
    "물건을 배낭에 넣거나 넣지 않는 경우 이를 기반으로 시간 복잡도는 O(2^n)"
   ]
  }
 ],
 "metadata": {
  "language_info": {
   "name": "python"
  }
 },
 "nbformat": 4,
 "nbformat_minor": 2
}
