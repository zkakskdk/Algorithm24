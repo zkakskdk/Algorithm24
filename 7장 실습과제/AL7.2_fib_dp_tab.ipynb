{
 "cells": [
  {
   "cell_type": "markdown",
   "metadata": {},
   "source": [
    "1. 피보나치 수열(테이블화 이용)"
   ]
  },
  {
   "cell_type": "markdown",
   "metadata": {},
   "source": [
    "2. 테이블화는 부분 문제의 해를 메모리에 저장한다는 점은 메모이제이션과 같지만, \n",
    "\n",
    "메모리의 항목들을 순서적으로 채워나가는 것에 초점을 맞춘다.\n",
    "\n",
    "이 방법은 상향식으로 문제를 해결한다. \n",
    "\n",
    "결과를 저장할 테이블을 먼저 만들고, \n",
    "\n",
    "다음으로 답이 이미 알려진 단순한 상황, 즉 기반 상황에 대한 테이블 항목을 마저 채우고, \n",
    "\n",
    "이들을 바탕으로 테이블을 채워서 올라간다."
   ]
  },
  {
   "cell_type": "markdown",
   "metadata": {},
   "source": [
    "3. ![poster](./table.jpg)"
   ]
  },
  {
   "cell_type": "code",
   "execution_count": null,
   "metadata": {},
   "outputs": [],
   "source": [
    "def fib_dp_tab(n): \n",
    "    f = [None] * (n+1) #테이블을 만들고\n",
    "    f[0] = 0 # 기반 상황 처리\n",
    "    f[1] = 1 # 기반 상황 처리\n",
    "    for i in range(2, n + 1): # 상향식으로: 2, 3, ... n\n",
    "        f[i] = f[i-1] + f[i-2] # 부분 문제들을 해결하고 저장함\n",
    "    return f[n] # 결과 반환"
   ]
  },
  {
   "cell_type": "code",
   "execution_count": null,
   "metadata": {},
   "outputs": [],
   "source": [
    "n = 8\n",
    "print('동적계획 ( 테이블화 ): Fibonacci(%d) = '%n, fib_dp_tab(n))\n",
    "mem = [None] * (n+1)\n",
    "print('동적계획(메모이제이션): Fibonacci(%d) = '%n, fib_dp_mem(n))\n"
   ]
  },
  {
   "cell_type": "code",
   "execution_count": null,
   "metadata": {},
   "outputs": [],
   "source": [
    "def fib_dp_mem(n):\n",
    "    if(mem[n]==None):\n",
    "        if n < 2:\n",
    "            mem[n] = n\n",
    "        else:\n",
    "            mem[n] = fib_dp_mem(n-1) + fib_dp_mem(n-2)\n",
    "    return mem[n]\n",
    "\n",
    "def fib_dp_tab(n):\n",
    "    f = [None] * (n+1)\n",
    "    f[0] = 0\n",
    "    f[1] = 1\n",
    "    for i in range(2, n + 1):\n",
    "        f[i] = f[i-1] + f[i-2]\n",
    "    return f[n]\n",
    "\n",
    "n = 8\n",
    "print('동적계획 ( 테이블화 ): Fibonacci(%d) = '%n, fib_dp_tab(n))\n",
    "mem = [None] * (n+1)\n",
    "print('동적계획(메모이제이션): Fibonacci(%d) = '%n, fib_dp_mem(n))\n"
   ]
  },
  {
   "cell_type": "markdown",
   "metadata": {},
   "source": [
    "![poster](./스크린샷%202024-05-30%20피보나치.png)"
   ]
  },
  {
   "cell_type": "markdown",
   "metadata": {},
   "source": [
    "8. 시간복잡도\n",
    "\n",
    "O(n)"
   ]
  },
  {
   "cell_type": "markdown",
   "metadata": {},
   "source": []
  }
 ],
 "metadata": {
  "language_info": {
   "name": "python"
  }
 },
 "nbformat": 4,
 "nbformat_minor": 2
}
