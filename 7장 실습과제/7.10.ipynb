{
 "cells": [
  {
   "cell_type": "markdown",
   "metadata": {},
   "source": [
    "# 1. 문제정의\n",
    "Floyd의 최단경로 탐색 알고리즘"
   ]
  },
  {
   "cell_type": "markdown",
   "metadata": {},
   "source": [
    "# 2. 알고리즘 설명\n",
    " 그래프의 모든 쌍의 최단 경로를 찾기 위한 알고리즘이다. 이 알고리즘은 동적 프로그래밍을 사용하여 그래프의 각 정점 쌍 사이의 최단 경로를 계산한다."
   ]
  },
  {
   "cell_type": "markdown",
   "metadata": {},
   "source": [
    "# 3. 손으로 푼 예제\n",
    "![poster](./7.10%20손으로%20푼%20예제.jpg)"
   ]
  },
  {
   "cell_type": "markdown",
   "metadata": {},
   "source": [
    "# 4. 알고리즘 개요\n",
    "1. 초기화 : W 행렬을 깊은 복사하여 D 행렬로 초기화한다. D[i][j]는 처음에는 W[i][j]로 설정된다.\n",
    "2. 중간 정점을 고려한 최단 경로 갱신 : 세 개의 중첩된 반복문을 사용하여 모든 정점 쌍 i와 j에 대해 모든 가능한 중간 정점 k를 고려한다.\n",
    "각 반복문은 정점의 개수(vsize)만큼 반복된다. 정점 k를 중간에 거쳐가는 경로(i -> k -> j)가 직접 경로(i -> j)보다 짧으면, D[i][j]를 갱신한다.\n",
    "3. 최종 행렬 출력 : 최종적으로 갱신된 D 행렬을 출력하여 모든 정점 쌍 간의 최단 경로를 보여준다."
   ]
  },
  {
   "cell_type": "code",
   "execution_count": null,
   "metadata": {},
   "outputs": [],
   "source": [
    "# 5. 알고리즘\n",
    "import copy\n",
    "def shortest_path_floyd(vertex, W):\n",
    "    vsize = len(vertex)\n",
    "    D = copy.deepcopy(W)\n",
    "\n",
    "    for k in range(vsize):\n",
    "        for i in range(vsize):\n",
    "            for j in range(vsize):\n",
    "                if (D[i][k] + D[k][j] < D[i][j]):\n",
    "                    D[i][j] = D[i][k] + D[k][j]\n",
    "    printD(D)\n"
   ]
  },
  {
   "cell_type": "code",
   "execution_count": 3,
   "metadata": {},
   "outputs": [
    {
     "name": "stdout",
     "output_type": "stream",
     "text": [
      "Shortest Path By Floyd's Algorithm\n",
      "================================\n",
      "   0    5    9   11    3   10    8 \n",
      "   5    0    4    6    2    6    7 \n",
      "   9    4    0    2    6   10    6 \n",
      "  11    6    2    0    8    9    4 \n",
      "   3    2    6    8    0    8    5 \n",
      "  10    6   10    9    8    0   13 \n",
      "   8    7    6    4    5   13    0 \n"
     ]
    }
   ],
   "source": [
    "# 6. 테스트코드\n",
    "import copy\n",
    "\n",
    "def printD(D):\n",
    "    vsize = len(D)\n",
    "    print(\"D matrix:\")\n",
    "    for i in range(vsize):\n",
    "        for j in range(vsize):\n",
    "            if D[i][j] == float('inf'):\n",
    "                print(\"inf\", end=\" \")\n",
    "            else:\n",
    "                print(f\"{D[i][j]:3}\", end=\" \")\n",
    "        print()\n",
    "    print()\n",
    "\n",
    "def shortest_path_floyd(vertex, W):\n",
    "    vsize = len(vertex)\n",
    "    D = copy.deepcopy(W)\n",
    "\n",
    "    for k in range(vsize):\n",
    "        for i in range(vsize):\n",
    "            for j in range(vsize):\n",
    "                if D[i][k] + D[k][j] < D[i][j]:\n",
    "                    D[i][j] = D[i][k] + D[k][j]\n",
    "    printD(D)\n",
    "\n",
    "def printD(D):\n",
    "    vsize = len(D)\n",
    "    print(\"================================\")\n",
    "    for i in range(vsize):\n",
    "        for j in range(vsize):\n",
    "            if(D[i][j] == INF) : print(\" INF \", end='')\n",
    "            else : print(\"%4d \"%D[i][j], end='')\n",
    "        print(\"\")\n",
    "INF = 9999\n",
    "vertex = [ 'A', 'B', 'C', 'D', 'E', 'F', 'G']\n",
    "weight = [ [ 0, 7, INF, INF, 3, 10, INF ],\n",
    "           [ 7, 0, 4, 10, 2, 6, INF ],\n",
    "           [ INF, 4, 0, 2, INF, INF, INF ],\n",
    "           [ INF, 10, 2, 0, 11, 9, 4 ],\n",
    "           [ 3, 2, INF, 11, 0, 13, 5 ],\n",
    "           [ 10, 6, INF, 9, 13, 0, INF ],\n",
    "           [ INF, INF, INF, 4, 5, INF, 0]]\n",
    "print(\"Shortest Path By Floyd's Algorithm\")\n",
    "shortest_path_floyd(vertex, weight)"
   ]
  },
  {
   "cell_type": "markdown",
   "metadata": {},
   "source": [
    "# 7. 수행결과\n",
    "![poster](./7.10%20테스트코드.png)"
   ]
  },
  {
   "cell_type": "markdown",
   "metadata": {},
   "source": [
    "# 8. 복잡도\n",
    "시간 복잡도: O(vsize3)\n",
    "공간 복잡도: O(vsize2)\n",
    "(여기서의 vsize3에서 3은 제곱, 2도 똑같이 제곱)"
   ]
  }
 ],
 "metadata": {
  "kernelspec": {
   "display_name": "base",
   "language": "python",
   "name": "python3"
  },
  "language_info": {
   "codemirror_mode": {
    "name": "ipython",
    "version": 3
   },
   "file_extension": ".py",
   "mimetype": "text/x-python",
   "name": "python",
   "nbconvert_exporter": "python",
   "pygments_lexer": "ipython3",
   "version": "3.11.7"
  }
 },
 "nbformat": 4,
 "nbformat_minor": 2
}
