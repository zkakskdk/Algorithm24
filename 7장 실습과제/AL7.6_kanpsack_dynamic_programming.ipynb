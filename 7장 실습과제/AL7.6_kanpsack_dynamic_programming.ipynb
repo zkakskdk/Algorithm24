{
 "cells": [
  {
   "cell_type": "markdown",
   "metadata": {},
   "source": [
    "### 1)문제정의\n",
    "동적 계획 알고리즘을 이용한 0-1 배낭 채우기 알고리즘"
   ]
  },
  {
   "cell_type": "markdown",
   "metadata": {},
   "source": [
    "### 2)알고리즘 설명\n",
    "2차원 배열 A를 사용하여 최적해를 구하고 A[i][w]는 i번째 물건까지 고려하고 배낭의 무게 한도가 w일 때 얻을 수 있는 최대 가치를 나타냅니다. 여기서 i는 1부터 n까지, w는 1부터 W까지 변화합니다. 초기화 단계에서는 아직 아무 물건도 고려하지 않았을 때의 상태를 나타내기 위해 A[0][w] = 0으로 설정합니다. 그리고 아직 배낭의 무게 한도가 w일 때, 0번째 물건부터 i번째 물건까지 고려했을 때의 최대 가치를 채워 넣습니다 그 후, 각 물건에 대해 반복문을 수행하면서 배낭의 무게 한도가 증가함에 따라 최대 가치를 갱신합니다. 만약 현재 고려 중인 물건의 무게가 배낭의 무게 한도를 초과하면, 해당 물건을 배낭에 넣을 수 없으므로 A[i][w]를 이전 상태인 A[i-1][w]로 설정합니다. 그렇지 않은 경우에는 해당 물건을 넣는 경우와 넣지 않는 경우 중 더 큰 가치를 선택하여 A[i][w]를 갱신합니다. 반복이 완료되면 A[n][W]에는 최종적으로 배낭에 넣을 수 있는 물건들의 최대 가치가 저장되어 반환\n"
   ]
  },
  {
   "cell_type": "markdown",
   "metadata": {},
   "source": [
    "### 3)손으로 푼 문제\n",
    "![poster](./AL7.5_kanpsack_divide_and_conquer_2.jpg)"
   ]
  },
  {
   "cell_type": "markdown",
   "metadata": {},
   "source": [
    "### 4)코드 개요\n",
    "1. A = [[0 for x in range(W + 1)] for x in range(n+1)]  A[i][w] 배열 초기화\n",
    "2. for i in range(1, n + 1): 모든 물건에 대해 반복\n",
    "3. for w in range(1, W + 1): 배낭의 무게 한도가 증가함에 따라 최대 가치 갱신\n",
    "4. if wt[i-1] > w: 현재 고려 중인 물건의 무게가 배낭의 무게 한도를 초과하는 경우\n",
    "5. A[i][w] = A[i-1][w] 해당 물건을 배낭에 넣을 수 없으므로 이전 상태를 유지\n",
    "6. valWith = val[i-1] + A[i-1][w-wt[i-1]] 현재 물건을 넣는 경우\n",
    "7. valWithout = A[i-1][w] 현재 물건을 넣지 않는 경우\n",
    "8. A[i][w] = max(valWith, valWithout) 더 큰 가치로 갱신\n",
    "9. return A[n][W]  배낭에 넣을 수 있는 물건들의 최대 가치 반환"
   ]
  },
  {
   "cell_type": "markdown",
   "metadata": {},
   "source": [
    "### 5)알고리즘 코드\n"
   ]
  },
  {
   "cell_type": "code",
   "execution_count": null,
   "metadata": {},
   "outputs": [],
   "source": [
    "def knapSack_dp(W, wt, val, n):\n",
    "    A = [[0 for x in range(W + 1)] for x in range(n+1)]\n",
    "\n",
    "    for i in range(1, n + 1):\n",
    "        for w in range(1, W + 1):\n",
    "            if wt[i-1] > w:\n",
    "                A[i][w] = A[i-1][w]\n",
    "            else:\n",
    "                valWith = val[i-1] + A[i-1][w-wt[i-1]]\n",
    "                valWith = A[i-1][w]\n",
    "                A[i][w] = max(valWith, valWithout)\n",
    "\n",
    "    return A[n][W]\n",
    "    "
   ]
  },
  {
   "cell_type": "markdown",
   "metadata": {},
   "source": [
    "### 6)테스트 코드"
   ]
  },
  {
   "cell_type": "code",
   "execution_count": null,
   "metadata": {},
   "outputs": [],
   "source": [
    "def knapSack_dp(W, wt, val, n):\n",
    "    A = [[0 for x in range(W + 1)] for x in range(n+1)]\n",
    "\n",
    "    for i in range(1, n + 1):\n",
    "        for w in range(1, W + 1):\n",
    "            if wt[i-1] > w:\n",
    "                A[i][w] = A[i-1][w]\n",
    "            else:\n",
    "                valWith = val[i-1] + A[i-1][w-wt[i-1]]\n",
    "                valWithout = A[i-1][w]\n",
    "                A[i][w] = max(valWith, valWithout)\n",
    "\n",
    "    return A[n][W]\n",
    "\n",
    "W = 50  \n",
    "wt = [10, 20, 30]  \n",
    "val = [60, 100, 120] \n",
    "n = len(val)  \n",
    "print(\"최대 가치:\", knapSack_dp(W, wt, val, n))\n"
   ]
  },
  {
   "cell_type": "markdown",
   "metadata": {},
   "source": [
    "### 7)수행 결과\n",
    "![poster](./AL7.5_kanpsack_divide_and_conquer_1.png)"
   ]
  },
  {
   "cell_type": "markdown",
   "metadata": {},
   "source": [
    "### 8)복잡도 계산\n",
    "여기서 n은 물건의 개수이고, W는 배낭의 무게 한도이다. 알고리즘의 각 단계에서는 이중 반복문을 사용하여 모든 물건과 가능한 배낭 무게에 대해 계산합니다. 내부 반복문에서는 상수 시간이 소요되므로 시간 복잡도는 O(nW)"
   ]
  }
 ],
 "metadata": {
  "language_info": {
   "name": "python"
  }
 },
 "nbformat": 4,
 "nbformat_minor": 2
}
