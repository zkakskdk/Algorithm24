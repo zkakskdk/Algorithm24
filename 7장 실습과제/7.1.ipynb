{
 "cells": [
  {
   "cell_type": "markdown",
   "metadata": {},
   "source": [
    "# 1. 문제정의\n",
    "피보나치수열(메모이제이션 이용)"
   ]
  },
  {
   "cell_type": "markdown",
   "metadata": {},
   "source": [
    "# 2. 알고리즘 설명\n",
    "1. 함수 정의 : fib_dp_mem(n) 함수는 메모이제이션을 사용하여 n번째 피보나치 수를 계산한다.\n",
    "2. 메모이제이션 : 메모이제이션은 계산 비용이 큰 함수 호출 결과를 저장하여 같은 입력이 다시 주어졌을 때 저장된 값을 재사용하는 기법이다. 이렇게 하면 불필요한 중복 계산을 피할 수 있다.\n",
    "3. 메모이제이션 값 확인 : if(mem(n) == None):\n",
    "이 줄은 n번째 피보나치 수가 이미 계산되어 메모이제이션 구조(mem)에 저장되어 있는지 확인한다.\n",
    "4. 기본 케이스 : if n < 2:\n",
    "n이 2보다 작은지 확인한다. 피보나치 수열의 기본 케이스다.\n",
    "n이 0 또는 1이면 피보나치 수는 n 그 자체입니다. 그래서 mem[n] = n으로 저장한다.\n",
    "5. 재귀 케이스 : else:\n",
    "n이 2 이상이면, 함수는 fib_dp_mem(n-1)과 fib_dp_mem(n-2)를 재귀적으로 호출하여 두 이전 피보나치 수를 계산한다.\n",
    "이 두 수를 더한 값을 mem[n]에 저장한다.\n",
    "6. 메모이제이션 결과 반환 : return mem[n]\n",
    "마지막으로 함수는 n에 대한 메모이제이션 결과를 반환한다."
   ]
  },
  {
   "cell_type": "markdown",
   "metadata": {},
   "source": [
    "# 3. 손으로 푼 예제\n",
    "![poster](./7.1%20손으로%20푼%20예제.jpg)"
   ]
  },
  {
   "cell_type": "markdown",
   "metadata": {},
   "source": [
    "# 4. 알고리즘 개요\n",
    "1. 문제 정의 : 피보나치 수열의 n번째 수를 계산한다. 피보나치 수열은 다음과 같은 수열이다:\n",
    "F(0) = 0\n",
    "F(1) = 1\n",
    "F(n) = F(n-1) + F(n-2) (n >= 2)\n",
    "\n",
    "2. 동적 프로그래밍(DP) : 동일한 하위 문제(subproblem)를 여러 번 계산하지 않도록 하여 시간 복잡도를 줄이는 기법이다.\n",
    "하위 문제의 결과를 저장하여 재사용한다.\n",
    "\n",
    "3. 메모이제이션(Memoization) : 계산된 결과를 메모리에 저장해 두고, 동일한 입력이 다시 주어졌을 때 저장된 결과를 반환하는 방식이다.\n",
    "이로 인해 불필요한 중복 계산을 피할 수 있다."
   ]
  },
  {
   "cell_type": "code",
   "execution_count": 4,
   "metadata": {},
   "outputs": [],
   "source": [
    "# 5. 알고리즘\n",
    "def fib_dp_mem(n) :\n",
    "    if(mem(n) == None) :\n",
    "        if n < 2 :\n",
    "            mem[2] = n\n",
    "        else :\n",
    "            mem[n] = fib_dp_mem(n-1) + fib_dp_mem(n-2)\n",
    "    return mem[n]\n"
   ]
  },
  {
   "cell_type": "code",
   "execution_count": 5,
   "metadata": {},
   "outputs": [
    {
     "name": "stdout",
     "output_type": "stream",
     "text": [
      "동적계획(테이블화) : Fibonacci(8) =  21\n",
      "동적계획(메모이제이션) : Fibonacci(8) =  21\n"
     ]
    }
   ],
   "source": [
    "# 6. 테스트 코드\n",
    "def fib_dp_mem(n, mem=None):\n",
    "    if mem is None:\n",
    "        mem = [None] * (n + 1)\n",
    "    \n",
    "    if mem[n] is None:\n",
    "        if n < 2:\n",
    "            mem[n] = n\n",
    "        else:\n",
    "            mem[n] = fib_dp_mem(n-1, mem) + fib_dp_mem(n-2, mem)\n",
    "    \n",
    "    return mem[n]\n",
    "\n",
    "def fib_dp_tap(n):\n",
    "    if n < 2:\n",
    "        return n\n",
    "    \n",
    "    table = [0] * (n + 1)\n",
    "    table[1] = 1\n",
    "    \n",
    "    for i in range(2, n + 1):\n",
    "        table[i] = table[i-1] + table[i-2]\n",
    "    \n",
    "    return table[n]\n",
    "\n",
    "n = 8\n",
    "\n",
    "print('동적계획(테이블화) : Fibonacci(%d) = ' % n, fib_dp_tap(n))\n",
    "\n",
    "mem = [None] * (n + 1)\n",
    "print('동적계획(메모이제이션) : Fibonacci(%d) = ' % n, fib_dp_mem(n, mem))"
   ]
  },
  {
   "cell_type": "markdown",
   "metadata": {},
   "source": [
    "# 7. 수행결과\n",
    "![poster](./7.1%20테스트코드.png)"
   ]
  },
  {
   "cell_type": "markdown",
   "metadata": {},
   "source": [
    "# 8. 복잡도\n",
    "O(n)"
   ]
  }
 ],
 "metadata": {
  "kernelspec": {
   "display_name": "base",
   "language": "python",
   "name": "python3"
  },
  "language_info": {
   "codemirror_mode": {
    "name": "ipython",
    "version": 3
   },
   "file_extension": ".py",
   "mimetype": "text/x-python",
   "name": "python",
   "nbconvert_exporter": "python",
   "pygments_lexer": "ipython3",
   "version": "3.11.7"
  }
 },
 "nbformat": 4,
 "nbformat_minor": 2
}
