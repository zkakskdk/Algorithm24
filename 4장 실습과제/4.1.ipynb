{
 "cells": [
  {
   "cell_type": "markdown",
   "metadata": {},
   "source": [
    "#### 문제정의\n",
    "팩토리얼(하향식 축소 정복 기법)"
   ]
  },
  {
   "cell_type": "markdown",
   "metadata": {},
   "source": [
    "#### 알고리즘 설명\n",
    "1. 팩토리얼 함수에 정수를 입력 받는다\n",
    "2. 축소 기법으로 팩토리얼 계산을 해 나간다.\n",
    "3. 정수가 1이되면 함수에서 나온다."
   ]
  },
  {
   "cell_type": "markdown",
   "metadata": {},
   "source": [
    "#### 손으로 푼 예제\n",
    "![poster](./4_1.jpg)"
   ]
  },
  {
   "cell_type": "markdown",
   "metadata": {},
   "source": [
    "#### 코드 개요\n",
    "1. 함수에 정수 n 입력.\n",
    "2. n이 1이 아니면, 정수 n을 곱하며 n-1을 다시 함수에 입력.\n",
    "3. n = 1이 되면, 1를 반환하주며 팩토리얼 계산이 됨."
   ]
  },
  {
   "cell_type": "code",
   "execution_count": null,
   "metadata": {},
   "outputs": [],
   "source": [
    "def factorial_recur(n):\n",
    "    if n == 1 :\n",
    "        return 1\n",
    "    else :\n",
    "        return (n * factorial_recur(n-1))"
   ]
  },
  {
   "cell_type": "code",
   "execution_count": null,
   "metadata": {},
   "outputs": [],
   "source": [
    "def factorial_recur(n):\n",
    "    if n == 1 :\n",
    "        return 1\n",
    "    else :\n",
    "        return (n * factorial_recur(n-1))\n",
    "\n",
    "def main() :\n",
    "    a = int(input(\"정수 입력 >>\"))\n",
    "    print(factorial_recur(a))\n",
    "    \n",
    "    return 0\n",
    "\n",
    "if __name__ == \"__main__\":\n",
    "    main()"
   ]
  },
  {
   "cell_type": "markdown",
   "metadata": {},
   "source": [
    "#### 수행 결과\n",
    "![poster](./4_1_re.jpg)"
   ]
  },
  {
   "cell_type": "markdown",
   "metadata": {},
   "source": [
    "#### 복잡도 분석\n",
    "재귀 함수를 이용하는 코드 이므로 n번의 함수 호출로 인하여\n",
    "시간 복잡도는 O(n)이다."
   ]
  },
  {
   "cell_type": "markdown",
   "metadata": {},
   "source": [
    "#### 협력 내용"
   ]
  }
 ],
 "metadata": {
  "language_info": {
   "name": "python"
  }
 },
 "nbformat": 4,
 "nbformat_minor": 2
}
