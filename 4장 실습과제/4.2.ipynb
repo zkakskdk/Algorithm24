{
 "cells": [
  {
   "cell_type": "markdown",
   "metadata": {},
   "source": [
    "#### 문제 정의\n",
    "팩토리얼(상향식 축소 정복 기법)"
   ]
  },
  {
   "cell_type": "markdown",
   "metadata": {},
   "source": [
    "#### 알고리즘 설명\n",
    "1. 함수에 정수를 입력한다.\n",
    "2. 1부터 입력받은 정수까지 모두 곱해준다.\n",
    "3. 곱해준 값을 반환해준다."
   ]
  },
  {
   "cell_type": "markdown",
   "metadata": {},
   "source": [
    "#### 손으로 푼 예제\n",
    "![poster](./4_2.jpg)"
   ]
  },
  {
   "cell_type": "markdown",
   "metadata": {},
   "source": [
    "#### 코드 개요\n",
    "1. n에 정수를 입력.\n",
    "2. 변수 result에 1를 저장해 놓는다.\n",
    "3. 반복문을 이용하여 1부터 n까지 모두 곱해서 result에 저장한다.\n",
    "4. 팩토리얼 결과 값인 result값을 반환해준다."
   ]
  },
  {
   "cell_type": "code",
   "execution_count": null,
   "metadata": {},
   "outputs": [],
   "source": [
    "def factorial_iter(n) :\n",
    "    result = 1\n",
    "    for k in range(1, n+1) :\n",
    "        result = result * k\n",
    "    return result"
   ]
  },
  {
   "cell_type": "code",
   "execution_count": null,
   "metadata": {},
   "outputs": [],
   "source": [
    "def factorial_iter(n) :\n",
    "    result = 1\n",
    "    for k in range(1, n+1) :\n",
    "        result = result * k\n",
    "    return result\n",
    "\n",
    "def main() :\n",
    "    a = int(input(\"정수 입력 >>\"))\n",
    "    print(factorial_iter(a))\n",
    "    \n",
    "if __name__ == \"__main__\":\n",
    "    main()"
   ]
  }
 ],
 "metadata": {
  "language_info": {
   "name": "python"
  }
 },
 "nbformat": 4,
 "nbformat_minor": 2
}
