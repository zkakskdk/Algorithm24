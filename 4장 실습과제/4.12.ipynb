{
 "cells": [
  {
   "cell_type": "markdown",
   "metadata": {},
   "source": [
    "#### 문제 정의"
   ]
  },
  {
   "cell_type": "markdown",
   "metadata": {},
   "source": [
    "리스트 분할"
   ]
  },
  {
   "cell_type": "markdown",
   "metadata": {},
   "source": [
    "#### 알고리즘 설명"
   ]
  },
  {
   "cell_type": "markdown",
   "metadata": {},
   "source": [
    "1. 왼쪽 부분 리스트의 인덱스를 선언\n",
    "2. 오른쪽 부분 리스트의 인덱스를 선언\n",
    "3. 피벗을 설정\n",
    "4. 왼쪽과 오른쪽이 역전되지 않는 한 반복함.\n",
    "5. 선택 된 레코드를 교환\n",
    "6. 마지막 high와 피벗 항복 교환\n",
    "7. 피벗의 위치 반환"
   ]
  },
  {
   "cell_type": "markdown",
   "metadata": {},
   "source": [
    "#### 손으로 푼 예제"
   ]
  },
  {
   "cell_type": "markdown",
   "metadata": {},
   "source": []
  },
  {
   "cell_type": "code",
   "execution_count": null,
   "metadata": {},
   "outputs": [],
   "source": [
    "def partition(A, left, right) :\n",
    "    low = left + 1\n",
    "    high = right\n",
    "    pivot = A[left]\n",
    "    while (low <= high) :\n",
    "        while low <= right and A[low] <= pivot : low += 1\n",
    "        while high >= left and A[high] > pivot : hight -= 1\n",
    "\n",
    "        if low < high :\n",
    "            A[low], A[high] = A[high], A[low]\n",
    "\n",
    "    A[left], A[high] = A[high], A[left]\n",
    "    return high"
   ]
  },
  {
   "cell_type": "code",
   "execution_count": null,
   "metadata": {},
   "outputs": [],
   "source": [
    "def kth_smallest_sort(A, k) :\n",
    "    A.sort()\n",
    "    return A[k-1]\n",
    "\n",
    "def quick_select(A, left, right, k) :\n",
    "    pos = partition(A, left, right)\n",
    "\n",
    "    if (pos+1 == left+k) :\n",
    "        return A[pos]\n",
    "    elif (pos+1 > left+k) :\n",
    "        return quick_select(A, left, pos-1, k)\n",
    "    else : \n",
    "        return quick_select(A, pos+1, right, k-(pos+1-left))\n",
    "    \n",
    "def partition(A, left, right) :\n",
    "    low = left + 1\n",
    "    high = right\n",
    "    pivot = A[left]\n",
    "    while (low <= high) :\n",
    "        while low <= right and A[low] <= pivot : low += 1\n",
    "        while high >= left and A[high] > pivot : hight -= 1\n",
    "\n",
    "        if low < high :\n",
    "            A[low], A[high] = A[high], A[low]\n",
    "\n",
    "    A[left], A[high] = A[high], A[left]\n",
    "    return high\n",
    "\n",
    "array = [12, 3, 5, 7, 4, 19, 26, 23, 15]\n",
    "print(\"입력 리스트 =\", array)\n",
    "print(\"[정렬기법] 3번째 작은 수: \", kth_smallest_sort(array, 3))\n",
    "print(\"[정렬기법] 6번째 작은 수: \", kth_smallest_sort(array, 6))\n",
    "n = len(array)\n",
    "print(\"[축소정복] 3번째 작은 수: \", quick_select(array, 0, n-1, 3))\n",
    "print(\"[축소정복] 6번째 작은 수: \", quick_select(array, 0, n-1, 6))"
   ]
  }
 ],
 "metadata": {
  "language_info": {
   "name": "python"
  }
 },
 "nbformat": 4,
 "nbformat_minor": 2
}
