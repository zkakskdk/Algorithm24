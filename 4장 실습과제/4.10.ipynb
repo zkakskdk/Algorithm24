{
 "cells": [
  {
   "cell_type": "markdown",
   "metadata": {},
   "source": [
    "### 1)문제정의\n",
    "정렬을 이용한 k번째 작은 수 찾기"
   ]
  },
  {
   "cell_type": "markdown",
   "metadata": {},
   "source": [
    "### 2)알고리즘 설명\n",
    "1.먼저 입력으로 받은 리스트 A를 정렬한다 이를 통해 리스트 A는 오름차순으로 정렬된다.  \n",
    "2.정렬된 리스트 A에서 k-1 인덱스에 위치한 원소를 반환합니다.   \n",
    "3.반환된 값이 k번째로 작은 원소입니다."
   ]
  },
  {
   "cell_type": "markdown",
   "metadata": {},
   "source": [
    "### 3)손으로 푼 문제\n",
    "![poster](./chailkown2.10-2.jpg)"
   ]
  },
  {
   "cell_type": "markdown",
   "metadata": {},
   "source": [
    "### 4)코드 개요\n",
    "1. def kth_smallest_sort(A, k):: 이 코드는 kth_smallest_sort라는 함수를 정의합니다.  \n",
    "첫 번째 매개변수는 리스트 A이고, 두 번째 매개변수는 찾고자 하는 k번째 작은 원소의 위치입니다. \n",
    "2. A.sort(): 이 코드는 주어진 리스트 A를 정렬합니다. 이를 통해 리스트 A는 오름차순으로 정렬됩니다.  \n",
    "3. return A[k - 1]: 정렬된 리스트 A에서 k번째로 작은 원소를 찾아 반환합니다. 여기서 k번째로  작은 원소를 찾으려면 리스트의 k-1번째 인덱스에 위치한 값을 반환합니다. 인덱스는 0부터   시작하므로, k번째로 작은 원소는 인덱스 k-1에 위치합니다."
   ]
  },
  {
   "cell_type": "markdown",
   "metadata": {},
   "source": [
    "### 5)알고리즘 코드"
   ]
  },
  {
   "cell_type": "code",
   "execution_count": null,
   "metadata": {},
   "outputs": [],
   "source": [
    "def kth_smallest_sort(A, k):\n",
    "    A.sort()\n",
    "    return A[k - 1]"
   ]
  },
  {
   "cell_type": "markdown",
   "metadata": {},
   "source": [
    "### 6)테스트 코드"
   ]
  },
  {
   "cell_type": "code",
   "execution_count": null,
   "metadata": {},
   "outputs": [],
   "source": [
    "def kth_smallest_sort(A, k):\n",
    "    # 리스트 A를 정렬\n",
    "    A.sort()\n",
    "    \n",
    "    # 정렬된 리스트 A에서 k번째로 작은 원소 반환\n",
    "    kth_smallest = A[k - 1]\n",
    "    \n",
    "    # 결과 출력\n",
    "    print(f\"리스트 A를 정렬한 후, {k}번째로 작은 원소는: {kth_smallest}\")\n",
    "    \n",
    "    return kth_smallest\n",
    "\n",
    "# 예시 입력 리스트\n",
    "A = [4, 2, 6, 1, 5, 3]\n",
    "# 예시 k 값\n",
    "k = 3\n",
    "\n",
    "# 함수 호출\n",
    "result = kth_smallest_sort(A, k)\n"
   ]
  },
  {
   "cell_type": "markdown",
   "metadata": {},
   "source": [
    "### 7)수행 결과\n",
    "![poster](./chailkown2.10-1.png)"
   ]
  },
  {
   "cell_type": "markdown",
   "metadata": {},
   "source": [
    "### 8)복잡도 계산\n",
    "주어진 리스트 A를 정렬하는 데 걸리는 시간은 일반적으로 O(n log n)   \n",
    "정렬된 리스트에서 k번째로 작은 원소를 찾는 데는 상수 시간이 소요됩니다. 따라서 이 부분의 시간 복잡도는 O(1)  따라서 전체 함수의 시간 복잡도는 정렬하는 부분이 시간을 가장 많이 소요하므로  \n",
    "O(n log n)"
   ]
  },
  {
   "cell_type": "markdown",
   "metadata": {},
   "source": [
    "### 9)조별 협력 내용\n",
    "각자 문제를 나누어 해결하였다. "
   ]
  }
 ],
 "metadata": {
  "language_info": {
   "name": "python"
  }
 },
 "nbformat": 4,
 "nbformat_minor": 2
}
