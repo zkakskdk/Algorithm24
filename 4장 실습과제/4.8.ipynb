{
 "cells": [
  {
   "cell_type": "markdown",
   "metadata": {},
   "source": [
    "### 1)문제정의\n",
    "축소 정복을 이용한 거듭제곱 "
   ]
  },
  {
   "cell_type": "markdown",
   "metadata": {},
   "source": [
    "### 2)알고리즘 설명\n",
    "1. 기저 사례: 지수(n)가 0이면 어떤 수를 제곱해도 1이므로 1을 반환합니다.\n",
    "2. 지수가 짝수인 경우: 거듭제곱을 계산하기 위해 밑을 반으로 나눈 후, 해당 값의 제곱을 계산합니다. \n",
    "이는 지수를 반으로 나누는 것과 동일합니다.\n",
    "3. 지수가 홀수인 경우: 거듭제곱을 계산하기 위해 밑을 한 번 곱한 후, 지수를 짝수로 만들어 위의 방식을 사용합니다. \n",
    "이렇게 하면 홀수를 짝수로 만들어 계산을 수행할 수 있습니다."
   ]
  },
  {
   "cell_type": "markdown",
   "metadata": {},
   "source": [
    "### 3)손으로 푼 문제\n",
    "![poster](./chailkown2.8-2.jpg)"
   ]
  },
  {
   "cell_type": "markdown",
   "metadata": {},
   "source": [
    "### 4)코드 개요\n",
    "1. def power(x, n):                power라는 이름의 함수를 정의\n",
    "2. if n == 0: return 1             재귀 호출을 멈추기 위한 기저 사례\n",
    "3. elif (n % 2) == 0: return power(x * x, n // 2)  지수가 짝수인 경우 거듭제곱은 지수를 반으로 나눈 값에 해당하는 밑의 제곱과 같다 따라서 재귀적으로 power 함수를 호출\n",
    "4. else: return x * power(x * x, (n - 1) // 2)     지수가 홀수인 경우 거듭제곱은 짝수 지수를 가지는 경우와 유사하지만, 여기에 추가적으로 밑을 한 번 더 곱해주어야 한다.\n"
   ]
  },
  {
   "cell_type": "markdown",
   "metadata": {},
   "source": [
    "### 5)알고리즘 코드"
   ]
  },
  {
   "cell_type": "code",
   "execution_count": null,
   "metadata": {},
   "outputs": [],
   "source": [
    "def power(x,n):\n",
    "    if n == 0:\n",
    "        return 1\n",
    "    elif (n%2) == 0:\n",
    "        return power(x*x,n//2)\n",
    "    else:\n",
    "        return x*power(x*x, (n-1)//2)"
   ]
  },
  {
   "cell_type": "markdown",
   "metadata": {},
   "source": [
    "### 6)테스트 코드"
   ]
  },
  {
   "cell_type": "code",
   "execution_count": null,
   "metadata": {},
   "outputs": [],
   "source": [
    "def power(x, n):\n",
    "    if n == 0:\n",
    "        return 1\n",
    "    elif (n % 2) == 0:\n",
    "        return power(x * x, n // 2)\n",
    "    else:\n",
    "        return x * power(x * x, (n - 1) // 2)\n",
    "\n",
    "# 밑과 지수 값 설정\n",
    "x = 2\n",
    "n = 3\n",
    "\n",
    "# 거듭제곱 계산\n",
    "result = power(x, n)\n",
    "\n",
    "# 결과 출력\n",
    "print(f\"{x}의 {n} 거듭제곱은 {result} 입니다.\")"
   ]
  },
  {
   "cell_type": "markdown",
   "metadata": {},
   "source": [
    "### 7)수행 결과\n",
    "![poster](./chailkown2.8-1.png)"
   ]
  },
  {
   "cell_type": "markdown",
   "metadata": {},
   "source": [
    "### 8)복잡도 계산\n",
    "재귀적으로 호출되며 호출 시마다 지수가 반으로 줄든다 지수에 대해 거듭제곱을 계산하는 데 필요한 호출 횟수는 로그에 비례한다. 재귀 호출을 할 때마다 지수를 절반으로 줄이기 때문에 시간 복잡도는\n",
    " O(log n)"
   ]
  },
  {
   "cell_type": "markdown",
   "metadata": {},
   "source": [
    "### 9)조별 협력 내용\n",
    "신연준: 조장으로써 조원들이 예비군을 모두 다녀올때 미리 예습하여 조원들을 알려줌  \n",
    "4.1, 4.2, 4.3, 4.11, 4.12  \n",
    "김지성: 팀원의 화합을 이끌며 자발적으로 문제를 나누고 대화를 이끔  \n",
    "4.4, 4.5  \n",
    "김민범: 팀원으로써 조장을 도와 팀을 도와줌  \n",
    "4.6, 4.7  \n",
    "차일권  \n",
    "4.8, 4.10  "
   ]
  },
  {
   "cell_type": "markdown",
   "metadata": {},
   "source": []
  }
 ],
 "metadata": {
  "language_info": {
   "name": "python"
  }
 },
 "nbformat": 4,
 "nbformat_minor": 2
}
