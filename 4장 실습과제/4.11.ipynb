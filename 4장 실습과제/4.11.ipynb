{
 "cells": [
  {
   "cell_type": "markdown",
   "metadata": {},
   "source": [
    "#### 문제 정의"
   ]
  },
  {
   "cell_type": "markdown",
   "metadata": {},
   "source": [
    "축소 정복 기법을 이용한 k번째 작은 수 찾기"
   ]
  },
  {
   "cell_type": "markdown",
   "metadata": {},
   "source": [
    "#### 알고리즘 설명"
   ]
  },
  {
   "cell_type": "markdown",
   "metadata": {},
   "source": [
    "1. 받은 인자에서 partition을 변수 pos에 저장\n",
    "2. 계속 분할을 하며 수를 찾는다."
   ]
  },
  {
   "cell_type": "markdown",
   "metadata": {},
   "source": [
    "#### 손으로 푼 예제"
   ]
  },
  {
   "cell_type": "markdown",
   "metadata": {},
   "source": [
    "![poster](./4_11.jpg)"
   ]
  },
  {
   "cell_type": "markdown",
   "metadata": {},
   "source": [
    "#### 코드 개요"
   ]
  },
  {
   "cell_type": "markdown",
   "metadata": {},
   "source": [
    "1. 함수에 인자 A, left, right, k를 준다.\n",
    "2. partition함수의 값을 pos에 저장한다.\n",
    "3. pos와 left값을 비교하며 수를 찾는다."
   ]
  },
  {
   "cell_type": "code",
   "execution_count": null,
   "metadata": {},
   "outputs": [],
   "source": [
    "def quick_select(A, left, right, k) :\n",
    "    pos = partition(A, left, right)\n",
    "\n",
    "    if (pos+1 == left+k) :\n",
    "        return A[pos]\n",
    "    elif (pos+1 > left+k) :\n",
    "        return quick_select(A, left, pos-1, k)\n",
    "    else : \n",
    "        return quick_select(A, pos+1, right, k-(pos+1-left))"
   ]
  },
  {
   "cell_type": "code",
   "execution_count": null,
   "metadata": {},
   "outputs": [],
   "source": [
    "def quick_select(A, left, right, k) :\n",
    "    pos = partition(A, left, right)\n",
    "\n",
    "    if (pos+1 == left+k) :\n",
    "        return A[pos]\n",
    "    elif (pos+1 > left+k) :\n",
    "        return quick_select(A, left, pos-1, k)\n",
    "    else : \n",
    "        return quick_select(A, pos+1, right, k-(pos+1-left))\n",
    "\n",
    "def partition(A, left, right) :\n",
    "    pivot = A[right]\n",
    "    i = left - 1\n",
    "    for j in range(left, right):\n",
    "        if A[j] <= pivot:\n",
    "            i += 1\n",
    "            A[i], A[j] = A[j], A[i]\n",
    "    A[i + 1], A[right] = A[right], A[i + 1]\n",
    "    return i + 1\n",
    "\n",
    "arr = [3, 6, 8, 1, 2, 9, 4, 7, 5]\n",
    "k = 5\n",
    "\n",
    "result = quick_select(arr, 0, len(arr) - 1, k)\n",
    "print(f\"The {k}th smallest element is: {result}\")"
   ]
  },
  {
   "cell_type": "markdown",
   "metadata": {},
   "source": [
    "#### 수행 결과\n",
    "![poster](./4_11_re.jpg)"
   ]
  }
 ],
 "metadata": {
  "language_info": {
   "name": "python"
  }
 },
 "nbformat": 4,
 "nbformat_minor": 2
}
