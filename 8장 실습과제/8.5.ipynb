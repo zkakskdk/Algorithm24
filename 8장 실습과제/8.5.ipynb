{
 "cells": [
  {
   "cell_type": "markdown",
   "metadata": {},
   "source": [
    "# 1. 문제정의\n",
    "Prim의 최소비용 신장트리 알고리즘"
   ]
  },
  {
   "cell_type": "markdown",
   "metadata": {},
   "source": [
    "# 2. 알고리즘 개요\n",
    "1. 초기화\n",
    "vsize : 그래프의 정점 수를 나타낸다.\n",
    "dist : 현재 MST에서 각 정점까지의 최소 거리를 저장하는 리스트다. 시작 정점(0번 정점)의 거리는 0으로 하고 나머지는 무한대(INF)로 설정한다.\n",
    "selected : 각 정점이 MST에 포함되었는지 여부를 나타내는 리스트다. 처음에는 모두 포함되지 않았으므로 False로 설정한다.\n",
    "\n",
    "2. 메인 루프\n",
    "그래프의 각 정점에 대해 (vsize 번 반복) : dist 리스트에서 MST에 포함되지 않은 정점 중 최소 거리를 가진 정점 u를 찾는다. 이는 getMinVertex 함수를 사용하여 수행된다.\n",
    "정점 u를 MST에 포함되었다고 표시한다 (selected[u] = True)\n",
    "정점 u와 현재 dist 리스트의 상태를 출력한다.\n",
    "그래프의 각 정점 v에 대해 : u와 v 사이에 간선이 있고(adj[u][v] != None), v가 MST에 포함되지 않았으며(selected[v] == False), 그 간선의 가중치가 현재 v까지의 거리보다 작은 경우(adj[u][v] < dist[v]), v까지의 거리를 갱신한다 (dist[v] = adj[u][v])\n",
    "\n",
    "3. 결과\n",
    "루프가 종료되면 dist 리스트는 MST에 포함된 간선들의 가중치를 포함하게 되고, selected 리스트는 MST에 포함된 정점을 나타낸다."
   ]
  },
  {
   "cell_type": "markdown",
   "metadata": {},
   "source": [
    "# 3. 손으로 푼 예제\n",
    "![poster](./8.5%20손으로%20푼%20예제.jpg)"
   ]
  },
  {
   "cell_type": "markdown",
   "metadata": {},
   "source": [
    "# 4. 알고리즘 설명\n",
    "초기화\n",
    "vsize = len(vertex) : 정점 리스트의 길이(정점의 수)를 구한다.\n",
    "dist = [INF] * vsize : 각 정점까지의 최소 거리를 저장하는 리스트를 무한대(INF)로 초기화한다. 이 리스트는 현재 트리에서 해당 정점까지의 최소 간선 가중치를 나타낸다.\n",
    "dist[0] = 0 : 시작 정점의 거리를 0으로 설정한다. 보통 첫 번째 정점에서 시작한다.\n",
    "selected = [False] * vsize : 각 정점이 최소 스패닝 트리에 포함되었는지를 나타내는 리스트를 False로 초기화한다.\n",
    "\n",
    "메인 루프\n",
    "for i in range(vsize) : 그래프의 모든 정점을 순회한다.\n",
    "u = getMinVertex(dist, selected) : 현재 MST에 포함되지 않은 정점 중 가장 거리가 짧은 정점을 찾는다. getMinVertex 함수는 dist 리스트에서 selected가 False인 정점 중 최소 값을 가지는 정점을 반환한다.\n",
    "selected[u] = True: 선택된 정점을 MST에 포함되었다고 표시한다.\n",
    "print(vertex[u], end=':')와 print(dist) : 현재 선택된 정점과 dist 리스트의 상태를 출력한다.\n",
    "\n",
    "인접 정점 업데이트\n",
    "for v in range(vsize) : 모든 정점에 대해 다음을 수행한다.\n",
    "if(adj[u][v] != None) : 정점 u와 정점 v 사이에 간선이 존재하는지 확인한다.\n",
    "if(selected[v]==False and adj[u][v]< dist[v]) : 정점 v가 MST에 포함되지 않았고, u와 v 사이의 간선 가중치가 현재 v까지의 거리(dist[v])보다 작으면 : dist[v] = adj[u][v]: v까지의 최소 거리를 갱신한다."
   ]
  },
  {
   "cell_type": "code",
   "execution_count": 6,
   "metadata": {},
   "outputs": [],
   "source": [
    "# 5. 알고리즘\n",
    "def MSTPrim(vertex, adj):\n",
    "    vsize = len(vertex)\n",
    "    dist = [INF] * vsize\n",
    "    dist[0] = 0\n",
    "    selected = [False] * vsize\n",
    "\n",
    "    for i in range(vsize):\n",
    "        u = getMinVertex(dist, selected)\n",
    "        selected[u] = True\n",
    "        print(vertex[u], end=':')\n",
    "        print(dist)\n",
    "\n",
    "        for v in range(vsize):\n",
    "            if(adj[u][v] != None):\n",
    "                if(selected[v]==False and adj[u][v]< dist[v]):\n",
    "                    dist[v] = adj[u][v]"
   ]
  },
  {
   "cell_type": "code",
   "execution_count": 5,
   "metadata": {},
   "outputs": [
    {
     "name": "stdout",
     "output_type": "stream",
     "text": [
      "MST By Prim's Algorithm\n",
      "A:[0, inf, inf, inf, inf, inf, inf]\n",
      "F:[0, 29, inf, inf, inf, 10, inf]\n",
      "E:[0, 29, inf, inf, 27, 10, inf]\n",
      "D:[0, 29, inf, 22, 27, 10, 25]\n",
      "C:[0, 29, 12, 22, 27, 10, 18]\n",
      "B:[0, 16, 12, 22, 27, 10, 18]\n",
      "G:[0, 16, 12, 22, 27, 10, 15]\n"
     ]
    }
   ],
   "source": [
    "# 6. 테스트 코드\n",
    "def getMinVertex(dist, selected):\n",
    "    minDist = INF\n",
    "    minVertex = -1\n",
    "    for v in range(len(dist)):\n",
    "        if not selected[v] and dist[v] < minDist:\n",
    "            minDist = dist[v]\n",
    "            minVertex = v\n",
    "    return minVertex\n",
    "\n",
    "def MSTPrim(vertex, adj):\n",
    "    vsize = len(vertex)\n",
    "    dist = [INF] * vsize\n",
    "    dist[0] = 0\n",
    "    selected = [False] * vsize\n",
    "\n",
    "    for i in range(vsize):\n",
    "        u = getMinVertex(dist, selected)\n",
    "        selected[u] = True\n",
    "        print(vertex[u], end=':')\n",
    "        print(dist)\n",
    "\n",
    "        for v in range(vsize):\n",
    "            if(adj[u][v] is not None):\n",
    "                if(selected[v] == False and adj[u][v] < dist[v]):\n",
    "                    dist[v] = adj[u][v]\n",
    "\n",
    "vertex = [ 'A', 'B', 'C', 'D', 'E', 'F', 'G' ]\n",
    "weight = [\n",
    "    [None, 29, None, None, None, 10, None],\n",
    "    [29, None, 16, None, None, None, 15],\n",
    "    [None, 16, None, 12, None, None, None],\n",
    "    [None, None, 12, None, 22, None, 18],\n",
    "    [None, None, None, 22, None, 27, 25],\n",
    "    [10, None, None, None, 27, None, None],\n",
    "    [None, 15, None, 18, 25, None, None]\n",
    "]\n",
    "\n",
    "print(\"MST By Prim's Algorithm\")\n",
    "MSTPrim(vertex, weight)"
   ]
  },
  {
   "cell_type": "markdown",
   "metadata": {},
   "source": [
    "# 7. 실행결과\n",
    "![poster](./8.5%20실행결과.png)"
   ]
  },
  {
   "cell_type": "markdown",
   "metadata": {},
   "source": [
    "# 8. 복잡도\n",
    "O(V에 2승)"
   ]
  }
 ],
 "metadata": {
  "kernelspec": {
   "display_name": "base",
   "language": "python",
   "name": "python3"
  },
  "language_info": {
   "codemirror_mode": {
    "name": "ipython",
    "version": 3
   },
   "file_extension": ".py",
   "mimetype": "text/x-python",
   "name": "python",
   "nbconvert_exporter": "python",
   "pygments_lexer": "ipython3",
   "version": "3.11.7"
  }
 },
 "nbformat": 4,
 "nbformat_minor": 2
}
